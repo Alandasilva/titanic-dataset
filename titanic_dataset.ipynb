{
 "cells": [
  {
   "cell_type": "markdown",
   "id": "1d3d8fbb",
   "metadata": {},
   "source": [
    "# Titanic Dataset"
   ]
  },
  {
   "cell_type": "markdown",
   "id": "dccc844a",
   "metadata": {},
   "source": [
    "O conjunto de dados de teste conta com as seguintes variáveis: PassenderId: Passenger ID, Survived: Passnager Survival Indicator, Pclass: Passenger Class, Name: Name, Sex: Sex, Age: Age, SibSp: Number of Siblings/Spouses Aboard, Parch: Number of Parents/Children Aboard, Ticket: Ticket Number, Fare: Passenger Fare, Cabin: Cabin and Embarked: Port of Embarkation. \n",
    "Entretanto, vamos considerar as variáveis Survived, Pclass, Sex, Age, SibSp, Parch e Embarked."
   ]
  },
  {
   "cell_type": "markdown",
   "id": "0ddd7397",
   "metadata": {},
   "source": [
    "## Carregando o pacote titanic\n",
    "\n",
    "Vamos carregar o conjunto de dados por meio da biblioteca **titanic**."
   ]
  },
  {
   "cell_type": "code",
   "execution_count": 2,
   "id": "5033352c",
   "metadata": {},
   "outputs": [],
   "source": [
    "#install.packages('titanic')\n",
    "library('titanic')"
   ]
  },
  {
   "cell_type": "code",
   "execution_count": 13,
   "id": "9958ea58",
   "metadata": {},
   "outputs": [
    {
     "data": {
      "text/html": [
       "<table>\n",
       "<thead><tr><th scope=col>Survived</th><th scope=col>Pclass</th><th scope=col>Sex</th><th scope=col>Age</th><th scope=col>SibSp</th><th scope=col>Parch</th><th scope=col>Fare</th><th scope=col>Embarked</th></tr></thead>\n",
       "<tbody>\n",
       "\t<tr><td>0      </td><td>3      </td><td>male   </td><td>22     </td><td>1      </td><td>0      </td><td> 7.2500</td><td>S      </td></tr>\n",
       "\t<tr><td>1      </td><td>1      </td><td>female </td><td>38     </td><td>1      </td><td>0      </td><td>71.2833</td><td>C      </td></tr>\n",
       "\t<tr><td>1      </td><td>3      </td><td>female </td><td>26     </td><td>0      </td><td>0      </td><td> 7.9250</td><td>S      </td></tr>\n",
       "\t<tr><td>1      </td><td>1      </td><td>female </td><td>35     </td><td>1      </td><td>0      </td><td>53.1000</td><td>S      </td></tr>\n",
       "\t<tr><td>0      </td><td>3      </td><td>male   </td><td>35     </td><td>0      </td><td>0      </td><td> 8.0500</td><td>S      </td></tr>\n",
       "\t<tr><td>0      </td><td>3      </td><td>male   </td><td>NA     </td><td>0      </td><td>0      </td><td> 8.4583</td><td>Q      </td></tr>\n",
       "</tbody>\n",
       "</table>\n"
      ],
      "text/latex": [
       "\\begin{tabular}{r|llllllll}\n",
       " Survived & Pclass & Sex & Age & SibSp & Parch & Fare & Embarked\\\\\n",
       "\\hline\n",
       "\t 0       & 3       & male    & 22      & 1       & 0       &  7.2500 & S      \\\\\n",
       "\t 1       & 1       & female  & 38      & 1       & 0       & 71.2833 & C      \\\\\n",
       "\t 1       & 3       & female  & 26      & 0       & 0       &  7.9250 & S      \\\\\n",
       "\t 1       & 1       & female  & 35      & 1       & 0       & 53.1000 & S      \\\\\n",
       "\t 0       & 3       & male    & 35      & 0       & 0       &  8.0500 & S      \\\\\n",
       "\t 0       & 3       & male    & NA      & 0       & 0       &  8.4583 & Q      \\\\\n",
       "\\end{tabular}\n"
      ],
      "text/markdown": [
       "\n",
       "| Survived | Pclass | Sex | Age | SibSp | Parch | Fare | Embarked |\n",
       "|---|---|---|---|---|---|---|---|\n",
       "| 0       | 3       | male    | 22      | 1       | 0       |  7.2500 | S       |\n",
       "| 1       | 1       | female  | 38      | 1       | 0       | 71.2833 | C       |\n",
       "| 1       | 3       | female  | 26      | 0       | 0       |  7.9250 | S       |\n",
       "| 1       | 1       | female  | 35      | 1       | 0       | 53.1000 | S       |\n",
       "| 0       | 3       | male    | 35      | 0       | 0       |  8.0500 | S       |\n",
       "| 0       | 3       | male    | NA      | 0       | 0       |  8.4583 | Q       |\n",
       "\n"
      ],
      "text/plain": [
       "  Survived Pclass Sex    Age SibSp Parch Fare    Embarked\n",
       "1 0        3      male   22  1     0      7.2500 S       \n",
       "2 1        1      female 38  1     0     71.2833 C       \n",
       "3 1        3      female 26  0     0      7.9250 S       \n",
       "4 1        1      female 35  1     0     53.1000 S       \n",
       "5 0        3      male   35  0     0      8.0500 S       \n",
       "6 0        3      male   NA  0     0      8.4583 Q       "
      ]
     },
     "metadata": {},
     "output_type": "display_data"
    }
   ],
   "source": [
    "#install.packages('knitr', dependencies = TRUE)\n",
    "titanic_df <- subset(titanic_train, select = c('Survived', 'Pclass', 'Sex', 'Age', 'SibSp', 'Parch', 'Fare','Embarked'))\n",
    "#knitr::kable(head(titanic_df))\n",
    "head(titanic_df)"
   ]
  },
  {
   "cell_type": "markdown",
   "id": "0f68ac8d",
   "metadata": {},
   "source": [
    "O conjunto de dados de treino conta com 891 observações e o conjunto de teste com 418 observações."
   ]
  },
  {
   "cell_type": "code",
   "execution_count": 14,
   "id": "494c8e6d",
   "metadata": {},
   "outputs": [
    {
     "data": {
      "text/html": [
       "<ol class=list-inline>\n",
       "\t<li>891</li>\n",
       "\t<li>8</li>\n",
       "</ol>\n"
      ],
      "text/latex": [
       "\\begin{enumerate*}\n",
       "\\item 891\n",
       "\\item 8\n",
       "\\end{enumerate*}\n"
      ],
      "text/markdown": [
       "1. 891\n",
       "2. 8\n",
       "\n",
       "\n"
      ],
      "text/plain": [
       "[1] 891   8"
      ]
     },
     "metadata": {},
     "output_type": "display_data"
    }
   ],
   "source": [
    "dim(titanic_df)"
   ]
  },
  {
   "cell_type": "code",
   "execution_count": 15,
   "id": "471805eb",
   "metadata": {},
   "outputs": [
    {
     "name": "stdout",
     "output_type": "stream",
     "text": [
      "'data.frame':\t891 obs. of  8 variables:\n",
      " $ Survived: int  0 1 1 1 0 0 0 0 1 1 ...\n",
      " $ Pclass  : int  3 1 3 1 3 3 1 3 3 2 ...\n",
      " $ Sex     : chr  \"male\" \"female\" \"female\" \"female\" ...\n",
      " $ Age     : num  22 38 26 35 35 NA 54 2 27 14 ...\n",
      " $ SibSp   : int  1 1 0 1 0 0 0 3 0 1 ...\n",
      " $ Parch   : int  0 0 0 0 0 0 0 1 2 0 ...\n",
      " $ Fare    : num  7.25 71.28 7.92 53.1 8.05 ...\n",
      " $ Embarked: chr  \"S\" \"C\" \"S\" \"S\" ...\n"
     ]
    }
   ],
   "source": [
    "str(titanic_df)"
   ]
  },
  {
   "cell_type": "code",
   "execution_count": 16,
   "id": "c6c9db9b",
   "metadata": {},
   "outputs": [
    {
     "data": {
      "text/html": [
       "<table>\n",
       "<thead><tr><th scope=col>Survived</th><th scope=col>Pclass</th><th scope=col>Sex</th><th scope=col>Age</th><th scope=col>SibSp</th><th scope=col>Parch</th><th scope=col>Fare</th><th scope=col>Embarked</th></tr></thead>\n",
       "<tbody>\n",
       "\t<tr><td>0  </td><td>0  </td><td>0  </td><td>177</td><td>0  </td><td>0  </td><td>0  </td><td>0  </td></tr>\n",
       "</tbody>\n",
       "</table>\n"
      ],
      "text/latex": [
       "\\begin{tabular}{llllllll}\n",
       " Survived & Pclass & Sex & Age & SibSp & Parch & Fare & Embarked\\\\\n",
       "\\hline\n",
       "\t 0   & 0   & 0   & 177 & 0   & 0   & 0   & 0  \\\\\n",
       "\\end{tabular}\n"
      ],
      "text/markdown": [
       "\n",
       "| Survived | Pclass | Sex | Age | SibSp | Parch | Fare | Embarked |\n",
       "|---|---|---|---|---|---|---|---|\n",
       "| 0   | 0   | 0   | 177 | 0   | 0   | 0   | 0   |\n",
       "\n"
      ],
      "text/plain": [
       "     Survived Pclass Sex Age SibSp Parch Fare Embarked\n",
       "[1,] 0        0      0   177 0     0     0    0       "
      ]
     },
     "metadata": {},
     "output_type": "display_data"
    }
   ],
   "source": [
    "na_sum <- apply(X = titanic_df, MARGIN = 2, FUN = function(x) sum(is.na(x)))\n",
    "t(na_sum)              "
   ]
  },
  {
   "cell_type": "markdown",
   "id": "30df7ddf",
   "metadata": {},
   "source": [
    "Vamos remover as observações com valores faltantes e considerar apenas as demais observações."
   ]
  },
  {
   "cell_type": "code",
   "execution_count": 18,
   "id": "259c072e",
   "metadata": {},
   "outputs": [
    {
     "data": {
      "image/png": "[encoded data removed]",
      "text/plain": [
       "Plot with title \"Missingness Map\""
      ]
     },
     "metadata": {},
     "output_type": "display_data"
    }
   ],
   "source": [
    "options(repr.plot.res = 75)\n",
    "library(Amelia)\n",
    "missmap(titanic_df, col=c('red', 'white'))"
   ]
  },
  {
   "cell_type": "code",
   "execution_count": 5,
   "id": "82da2d89",
   "metadata": {},
   "outputs": [
    {
     "data": {
      "text/html": [
       "<table>\n",
       "<thead><tr><th></th><th scope=col>Survived</th><th scope=col>Pclass</th><th scope=col>Sex</th><th scope=col>Age</th><th scope=col>SibSp</th><th scope=col>Parch</th><th scope=col>Fare</th><th scope=col>Embarked</th></tr></thead>\n",
       "<tbody>\n",
       "\t<tr><th scope=row>1</th><td>0      </td><td>3      </td><td>male   </td><td>22     </td><td>1      </td><td>0      </td><td> 7.2500</td><td>S      </td></tr>\n",
       "\t<tr><th scope=row>2</th><td>1      </td><td>1      </td><td>female </td><td>38     </td><td>1      </td><td>0      </td><td>71.2833</td><td>C      </td></tr>\n",
       "\t<tr><th scope=row>3</th><td>1      </td><td>3      </td><td>female </td><td>26     </td><td>0      </td><td>0      </td><td> 7.9250</td><td>S      </td></tr>\n",
       "\t<tr><th scope=row>4</th><td>1      </td><td>1      </td><td>female </td><td>35     </td><td>1      </td><td>0      </td><td>53.1000</td><td>S      </td></tr>\n",
       "\t<tr><th scope=row>5</th><td>0      </td><td>3      </td><td>male   </td><td>35     </td><td>0      </td><td>0      </td><td> 8.0500</td><td>S      </td></tr>\n",
       "\t<tr><th scope=row>7</th><td>0      </td><td>1      </td><td>male   </td><td>54     </td><td>0      </td><td>0      </td><td>51.8625</td><td>S      </td></tr>\n",
       "</tbody>\n",
       "</table>\n"
      ],
      "text/latex": [
       "\\begin{tabular}{r|llllllll}\n",
       "  & Survived & Pclass & Sex & Age & SibSp & Parch & Fare & Embarked\\\\\n",
       "\\hline\n",
       "\t1 & 0       & 3       & male    & 22      & 1       & 0       &  7.2500 & S      \\\\\n",
       "\t2 & 1       & 1       & female  & 38      & 1       & 0       & 71.2833 & C      \\\\\n",
       "\t3 & 1       & 3       & female  & 26      & 0       & 0       &  7.9250 & S      \\\\\n",
       "\t4 & 1       & 1       & female  & 35      & 1       & 0       & 53.1000 & S      \\\\\n",
       "\t5 & 0       & 3       & male    & 35      & 0       & 0       &  8.0500 & S      \\\\\n",
       "\t7 & 0       & 1       & male    & 54      & 0       & 0       & 51.8625 & S      \\\\\n",
       "\\end{tabular}\n"
      ],
      "text/markdown": [
       "\n",
       "| <!--/--> | Survived | Pclass | Sex | Age | SibSp | Parch | Fare | Embarked |\n",
       "|---|---|---|---|---|---|---|---|---|\n",
       "| 1 | 0       | 3       | male    | 22      | 1       | 0       |  7.2500 | S       |\n",
       "| 2 | 1       | 1       | female  | 38      | 1       | 0       | 71.2833 | C       |\n",
       "| 3 | 1       | 3       | female  | 26      | 0       | 0       |  7.9250 | S       |\n",
       "| 4 | 1       | 1       | female  | 35      | 1       | 0       | 53.1000 | S       |\n",
       "| 5 | 0       | 3       | male    | 35      | 0       | 0       |  8.0500 | S       |\n",
       "| 7 | 0       | 1       | male    | 54      | 0       | 0       | 51.8625 | S       |\n",
       "\n"
      ],
      "text/plain": [
       "  Survived Pclass Sex    Age SibSp Parch Fare    Embarked\n",
       "1 0        3      male   22  1     0      7.2500 S       \n",
       "2 1        1      female 38  1     0     71.2833 C       \n",
       "3 1        3      female 26  0     0      7.9250 S       \n",
       "4 1        1      female 35  1     0     53.1000 S       \n",
       "5 0        3      male   35  0     0      8.0500 S       \n",
       "7 0        1      male   54  0     0     51.8625 S       "
      ]
     },
     "metadata": {},
     "output_type": "display_data"
    }
   ],
   "source": [
    "titanic_df <- na.omit(titanic_df)\n",
    "head(titanic_df)"
   ]
  },
  {
   "cell_type": "markdown",
   "id": "8a7db357",
   "metadata": {},
   "source": [
    "Agora, o conjunto de dados conta com 714 observações."
   ]
  },
  {
   "cell_type": "code",
   "execution_count": 25,
   "id": "4e1454f6",
   "metadata": {},
   "outputs": [
    {
     "data": {
      "text/html": [
       "714"
      ],
      "text/latex": [
       "714"
      ],
      "text/markdown": [
       "714"
      ],
      "text/plain": [
       "[1] 714"
      ]
     },
     "metadata": {},
     "output_type": "display_data"
    }
   ],
   "source": [
    "nrow(titanic_df)"
   ]
  },
  {
   "cell_type": "markdown",
   "id": "ef23f800",
   "metadata": {},
   "source": [
    "### Vizualização dos dados"
   ]
  },
  {
   "cell_type": "code",
   "execution_count": 7,
   "id": "0a6c954e",
   "metadata": {},
   "outputs": [
    {
     "data": {
      "image/png": "[encoded data removed]",
      "text/plain": [
       "plot without title"
      ]
     },
     "metadata": {},
     "output_type": "display_data"
    }
   ],
   "source": [
    "options(repr.plot.res = 60)\n",
    "library(ggplot2)\n",
    "ggplot(titanic_df, aes(x = Survived)) +\n",
    "  geom_bar(width=0.5, fill = \"coral\") +\n",
    "  geom_text(stat='count', aes(label=stat(count)), vjust=-0.5) +\n",
    "  theme_classic()"
   ]
  },
  {
   "cell_type": "code",
   "execution_count": 21,
   "id": "9a3acc3e",
   "metadata": {},
   "outputs": [
    {
     "data": {
      "image/png": "[encoded data removed]",
      "text/plain": [
       "plot without title"
      ]
     },
     "metadata": {},
     "output_type": "display_data"
    }
   ],
   "source": [
    "options(repr.plot.res = 60)\n",
    "ggplot(titanic_df, aes(x = Survived, fill=Sex)) +\n",
    " geom_bar(position = position_dodge()) +\n",
    " geom_text(stat='count', \n",
    "           aes(label=stat(count)), \n",
    "           position = position_dodge(width=1), vjust=-0.5)+\n",
    " theme_classic()"
   ]
  },
  {
   "cell_type": "code",
   "execution_count": 33,
   "id": "b6608b94",
   "metadata": {},
   "outputs": [
    {
     "data": {
      "image/png": "[encoded data removed]",
      "text/plain": [
       "plot without title"
      ]
     },
     "metadata": {},
     "output_type": "display_data"
    }
   ],
   "source": [
    "options(repr.plot.res = 60)\n",
    "ggplot(titanic_df, aes(x = Age)) +\n",
    " geom_histogram(color=\"black\", fill=\"coral\", binwidth = 5) +\n",
    " theme_classic()"
   ]
  },
  {
   "cell_type": "code",
   "execution_count": 35,
   "id": "36ceae33",
   "metadata": {},
   "outputs": [
    {
     "data": {
      "image/png": "[encoded data removed]",
      "text/plain": [
       "plot without title"
      ]
     },
     "metadata": {},
     "output_type": "display_data"
    }
   ],
   "source": [
    "options(repr.plot.res = 60)\n",
    "ggplot(titanic_df, aes(x = Age, fill = Survived)) +\n",
    " geom_histogram(color=\"black\", binwidth = 5) +\n",
    " theme_classic()"
   ]
  },
  {
   "cell_type": "code",
   "execution_count": 19,
   "id": "8f2f1dd2",
   "metadata": {},
   "outputs": [],
   "source": [
    "titanic_df$Survived <- factor(titanic_df$Survived)\n",
    "titanic_df$Pclass <- factor(titanic_df$Pclass, order=TRUE, levels = c(3, 2, 1))\n",
    "titanic_df$SibSp <- factor(titanic_df$SibSp)\n",
    "titanic_df$Parch <- factor(titanic_df$Parch)"
   ]
  },
  {
   "cell_type": "markdown",
   "id": "1d112661",
   "metadata": {},
   "source": [
    "### Diagrama de correlação"
   ]
  },
  {
   "cell_type": "code",
   "execution_count": 59,
   "id": "4e7ec417",
   "metadata": {},
   "outputs": [
    {
     "data": {
      "image/png": "[encoded data removed]",
      "text/plain": [
       "plot without title"
      ]
     },
     "metadata": {},
     "output_type": "display_data"
    }
   ],
   "source": [
    "#install.packages('GGally')\n",
    "library(GGally)\n",
    "\n",
    "options(repr.plot.res = 60, warn = -1)\n",
    "ggcorr(titanic_df,\n",
    "       nbreaks = 4,\n",
    "       label = TRUE,\n",
    "       label_size = 5,\n",
    "       color = 'grey50')"
   ]
  },
  {
   "cell_type": "code",
   "execution_count": 63,
   "id": "915ffe55",
   "metadata": {},
   "outputs": [
    {
     "data": {
      "image/png": "[encoded data removed]",
      "text/plain": [
       "plot without title"
      ]
     },
     "metadata": {},
     "output_type": "display_data"
    }
   ],
   "source": [
    "options(repr.plot.res = 60, warn = 0)\n",
    "ggplot(titanic_df, aes(x = Survived, fill=Pclass)) +\n",
    " geom_bar(position = position_dodge()) +\n",
    " geom_text(stat='count', \n",
    "           aes(label=stat(count)), \n",
    "           position = position_dodge(width=1), \n",
    "           vjust=-0.5)+\n",
    " theme_classic()"
   ]
  },
  {
   "cell_type": "code",
   "execution_count": 21,
   "id": "78785a8a",
   "metadata": {},
   "outputs": [
    {
     "data": {
      "image/png": "[encoded data removed]",
      "text/plain": [
       "plot without title"
      ]
     },
     "metadata": {},
     "output_type": "display_data"
    }
   ],
   "source": [
    "options(repr.plot.res = 60, warn = 0)\n",
    "ggplot(titanic_df, aes(x = Survived, fill = Parch)) +\n",
    " geom_bar(position = position_dodge()) +\n",
    " geom_text(stat='count', \n",
    "           aes(label=stat(count)), \n",
    "           position = position_dodge(width=1), \n",
    "           vjust=-0.5)+\n",
    " theme_classic()"
   ]
  },
  {
   "cell_type": "code",
   "execution_count": 22,
   "id": "1891d6f2",
   "metadata": {},
   "outputs": [
    {
     "data": {
      "image/png": "[encoded data removed]",
      "text/plain": [
       "plot without title"
      ]
     },
     "metadata": {},
     "output_type": "display_data"
    }
   ],
   "source": [
    "ggplot(titanic_df, aes(x = Survived, fill = SibSp)) +\n",
    " geom_bar(position = position_dodge()) +\n",
    " geom_text(stat='count', \n",
    "           aes(label=stat(count)), \n",
    "           position = position_dodge(width=1), \n",
    "           vjust=-0.5)+\n",
    " theme_classic()"
   ]
  },
  {
   "cell_type": "code",
   "execution_count": 23,
   "id": "eef41958",
   "metadata": {},
   "outputs": [
    {
     "data": {
      "image/png": "[encoded data removed]",
      "text/plain": [
       "plot without title"
      ]
     },
     "metadata": {},
     "output_type": "display_data"
    }
   ],
   "source": [
    "options(repr.plot.res = 75, warn = 0)\n",
    "ggplot(titanic_df, aes(x = Age)) +\n",
    " geom_density(fill='coral') +\n",
    "theme_classic()"
   ]
  },
  {
   "cell_type": "markdown",
   "id": "81cc3246",
   "metadata": {},
   "source": [
    "## Separando o conjunto de dados de treinamento e teste\n",
    "\n",
    "Vamos dividir o conjunto de dados considerando 75% para o treinamento e os 25% restantes para o teste."
   ]
  },
  {
   "cell_type": "code",
   "execution_count": 23,
   "id": "415f09e5",
   "metadata": {},
   "outputs": [],
   "source": [
    "n_train <- floor(nrow(titanic_df) * 0.7)\n",
    "set.seed(27012022)\n",
    "smp_obs <- sample(x = nrow(titanic_df), size = n_train, replace = F)\n",
    "train <- titanic_df[smp_obs,]\n",
    "test <- titanic_df[-smp_obs,]"
   ]
  },
  {
   "cell_type": "code",
   "execution_count": 36,
   "id": "d346328d",
   "metadata": {},
   "outputs": [
    {
     "data": {
      "text/html": [
       "499"
      ],
      "text/latex": [
       "499"
      ],
      "text/markdown": [
       "499"
      ],
      "text/plain": [
       "[1] 499"
      ]
     },
     "metadata": {},
     "output_type": "display_data"
    }
   ],
   "source": [
    "nrow(train) # conjunto de treinamento\n"
   ]
  },
  {
   "cell_type": "code",
   "execution_count": 38,
   "id": "7b8089d9",
   "metadata": {},
   "outputs": [
    {
     "data": {
      "text/html": [
       "215"
      ],
      "text/latex": [
       "215"
      ],
      "text/markdown": [
       "215"
      ],
      "text/plain": [
       "[1] 215"
      ]
     },
     "metadata": {},
     "output_type": "display_data"
    }
   ],
   "source": [
    "nrow(test) # conjunto de teste"
   ]
  },
  {
   "cell_type": "markdown",
   "id": "392380f6",
   "metadata": {},
   "source": [
    "### Árvores de decisão"
   ]
  },
  {
   "cell_type": "code",
   "execution_count": 21,
   "id": "d31fc81d",
   "metadata": {},
   "outputs": [],
   "source": [
    "#install.packages('rpart')\n",
    "#install.packages('rpart.plot')\n",
    "library(rpart) # carregando biblioteca\n",
    "library(rpart.plot)"
   ]
  },
  {
   "cell_type": "code",
   "execution_count": 24,
   "id": "656be928",
   "metadata": {},
   "outputs": [
    {
     "data": {
      "image/png": "[encoded data removed]",
      "text/plain": [
       "plot without title"
      ]
     },
     "metadata": {},
     "output_type": "display_data"
    }
   ],
   "source": [
    "fit_tree <- rpart(Survived~., data = train, method = 'class')\n",
    "\n",
    "options(repr.plot.res = 100, warn = 0)\n",
    "rpart.plot(fit_tree, extra = 106)"
   ]
  },
  {
   "cell_type": "code",
   "execution_count": 19,
   "id": "67fec018",
   "metadata": {},
   "outputs": [
    {
     "name": "stderr",
     "output_type": "stream",
     "text": [
      "Loading required package: lattice\n"
     ]
    }
   ],
   "source": [
    "library(caret) # carregando biblioteca"
   ]
  },
  {
   "cell_type": "code",
   "execution_count": 33,
   "id": "1ad60e63",
   "metadata": {},
   "outputs": [
    {
     "data": {
      "text/html": [
       "<ol class=list-inline>\n",
       "\t<li>0</li>\n",
       "\t<li>1</li>\n",
       "\t<li>1</li>\n",
       "\t<li>0</li>\n",
       "\t<li>0</li>\n",
       "\t<li>0</li>\n",
       "\t<li>1</li>\n",
       "\t<li>0</li>\n",
       "\t<li>1</li>\n",
       "\t<li>0</li>\n",
       "\t<li>0</li>\n",
       "\t<li>1</li>\n",
       "\t<li>0</li>\n",
       "\t<li>0</li>\n",
       "\t<li>1</li>\n",
       "\t<li>0</li>\n",
       "\t<li>0</li>\n",
       "\t<li>1</li>\n",
       "\t<li>0</li>\n",
       "\t<li>0</li>\n",
       "\t<li>1</li>\n",
       "\t<li>0</li>\n",
       "\t<li>0</li>\n",
       "\t<li>0</li>\n",
       "\t<li>0</li>\n",
       "\t<li>0</li>\n",
       "\t<li>0</li>\n",
       "\t<li>0</li>\n",
       "\t<li>1</li>\n",
       "\t<li>1</li>\n",
       "\t<li>0</li>\n",
       "\t<li>0</li>\n",
       "\t<li>0</li>\n",
       "\t<li>0</li>\n",
       "\t<li>0</li>\n",
       "\t<li>0</li>\n",
       "\t<li>0</li>\n",
       "\t<li>1</li>\n",
       "\t<li>0</li>\n",
       "\t<li>1</li>\n",
       "\t<li>0</li>\n",
       "\t<li>0</li>\n",
       "\t<li>1</li>\n",
       "\t<li>0</li>\n",
       "\t<li>0</li>\n",
       "\t<li>0</li>\n",
       "\t<li>0</li>\n",
       "\t<li>0</li>\n",
       "\t<li>0</li>\n",
       "\t<li>0</li>\n",
       "\t<li>0</li>\n",
       "\t<li>0</li>\n",
       "\t<li>0</li>\n",
       "\t<li>0</li>\n",
       "\t<li>0</li>\n",
       "\t<li>0</li>\n",
       "\t<li>1</li>\n",
       "\t<li>0</li>\n",
       "\t<li>0</li>\n",
       "\t<li>0</li>\n",
       "\t<li>0</li>\n",
       "\t<li>1</li>\n",
       "\t<li>1</li>\n",
       "\t<li>1</li>\n",
       "\t<li>0</li>\n",
       "\t<li>0</li>\n",
       "\t<li>0</li>\n",
       "\t<li>1</li>\n",
       "\t<li>0</li>\n",
       "\t<li>0</li>\n",
       "\t<li>0</li>\n",
       "\t<li>0</li>\n",
       "\t<li>1</li>\n",
       "\t<li>1</li>\n",
       "\t<li>0</li>\n",
       "\t<li>0</li>\n",
       "\t<li>1</li>\n",
       "\t<li>1</li>\n",
       "\t<li>1</li>\n",
       "\t<li>0</li>\n",
       "\t<li>0</li>\n",
       "\t<li>0</li>\n",
       "\t<li>1</li>\n",
       "\t<li>0</li>\n",
       "\t<li>0</li>\n",
       "\t<li>1</li>\n",
       "\t<li>1</li>\n",
       "\t<li>1</li>\n",
       "\t<li>0</li>\n",
       "\t<li>1</li>\n",
       "\t<li>1</li>\n",
       "\t<li>0</li>\n",
       "\t<li>1</li>\n",
       "\t<li>0</li>\n",
       "\t<li>0</li>\n",
       "\t<li>0</li>\n",
       "\t<li>1</li>\n",
       "\t<li>0</li>\n",
       "\t<li>1</li>\n",
       "\t<li>0</li>\n",
       "\t<li>1</li>\n",
       "\t<li>0</li>\n",
       "\t<li>1</li>\n",
       "\t<li>1</li>\n",
       "\t<li>1</li>\n",
       "\t<li>1</li>\n",
       "\t<li>0</li>\n",
       "\t<li>1</li>\n",
       "\t<li>0</li>\n",
       "\t<li>1</li>\n",
       "\t<li>0</li>\n",
       "\t<li>1</li>\n",
       "\t<li>0</li>\n",
       "\t<li>1</li>\n",
       "\t<li>0</li>\n",
       "\t<li>0</li>\n",
       "\t<li>1</li>\n",
       "\t<li>1</li>\n",
       "\t<li>1</li>\n",
       "\t<li>0</li>\n",
       "\t<li>0</li>\n",
       "\t<li>0</li>\n",
       "\t<li>0</li>\n",
       "\t<li>0</li>\n",
       "\t<li>0</li>\n",
       "\t<li>0</li>\n",
       "\t<li>0</li>\n",
       "\t<li>0</li>\n",
       "\t<li>1</li>\n",
       "\t<li>1</li>\n",
       "\t<li>0</li>\n",
       "\t<li>0</li>\n",
       "\t<li>0</li>\n",
       "\t<li>0</li>\n",
       "\t<li>0</li>\n",
       "\t<li>0</li>\n",
       "\t<li>1</li>\n",
       "\t<li>0</li>\n",
       "\t<li>1</li>\n",
       "\t<li>0</li>\n",
       "\t<li>0</li>\n",
       "\t<li>1</li>\n",
       "\t<li>0</li>\n",
       "\t<li>1</li>\n",
       "\t<li>0</li>\n",
       "\t<li>1</li>\n",
       "\t<li>1</li>\n",
       "\t<li>1</li>\n",
       "\t<li>0</li>\n",
       "\t<li>0</li>\n",
       "\t<li>0</li>\n",
       "\t<li>0</li>\n",
       "\t<li>0</li>\n",
       "\t<li>1</li>\n",
       "\t<li>1</li>\n",
       "\t<li>1</li>\n",
       "\t<li>0</li>\n",
       "\t<li>1</li>\n",
       "\t<li>0</li>\n",
       "\t<li>1</li>\n",
       "\t<li>0</li>\n",
       "\t<li>0</li>\n",
       "\t<li>0</li>\n",
       "\t<li>1</li>\n",
       "\t<li>0</li>\n",
       "\t<li>0</li>\n",
       "\t<li>0</li>\n",
       "\t<li>0</li>\n",
       "\t<li>1</li>\n",
       "\t<li>0</li>\n",
       "\t<li>0</li>\n",
       "\t<li>1</li>\n",
       "\t<li>1</li>\n",
       "\t<li>1</li>\n",
       "\t<li>0</li>\n",
       "\t<li>0</li>\n",
       "\t<li>0</li>\n",
       "\t<li>0</li>\n",
       "\t<li>0</li>\n",
       "\t<li>0</li>\n",
       "\t<li>0</li>\n",
       "\t<li>0</li>\n",
       "\t<li>1</li>\n",
       "\t<li>0</li>\n",
       "\t<li>0</li>\n",
       "\t<li>1</li>\n",
       "\t<li>1</li>\n",
       "\t<li>1</li>\n",
       "\t<li>0</li>\n",
       "\t<li>0</li>\n",
       "\t<li>0</li>\n",
       "\t<li>0</li>\n",
       "\t<li>0</li>\n",
       "\t<li>0</li>\n",
       "\t<li>1</li>\n",
       "\t<li>1</li>\n",
       "\t<li>0</li>\n",
       "\t<li>1</li>\n",
       "\t<li>0</li>\n",
       "\t<li>0</li>\n",
       "\t<li>0</li>\n",
       "\t<li>0</li>\n",
       "\t<li>0</li>\n",
       "\t<li>0</li>\n",
       "\t<li>0</li>\n",
       "\t<li>0</li>\n",
       "\t<li>0</li>\n",
       "\t<li>1</li>\n",
       "\t<li>0</li>\n",
       "\t<li>0</li>\n",
       "\t<li>0</li>\n",
       "\t<li>0</li>\n",
       "\t<li>1</li>\n",
       "\t<li>0</li>\n",
       "\t<li>0</li>\n",
       "\t<li>0</li>\n",
       "\t<li>0</li>\n",
       "\t<li>0</li>\n",
       "\t<li>0</li>\n",
       "\t<li>1</li>\n",
       "\t<li>0</li>\n",
       "\t<li>0</li>\n",
       "\t<li>1</li>\n",
       "\t<li>0</li>\n",
       "\t<li>1</li>\n",
       "\t<li>0</li>\n",
       "\t<li>1</li>\n",
       "\t<li>0</li>\n",
       "\t<li>1</li>\n",
       "\t<li>1</li>\n",
       "\t<li>0</li>\n",
       "\t<li>0</li>\n",
       "\t<li>0</li>\n",
       "\t<li>0</li>\n",
       "\t<li>0</li>\n",
       "\t<li>0</li>\n",
       "\t<li>0</li>\n",
       "\t<li>1</li>\n",
       "\t<li>0</li>\n",
       "\t<li>1</li>\n",
       "\t<li>0</li>\n",
       "\t<li>0</li>\n",
       "\t<li>0</li>\n",
       "\t<li>1</li>\n",
       "\t<li>0</li>\n",
       "\t<li>1</li>\n",
       "\t<li>0</li>\n",
       "\t<li>0</li>\n",
       "\t<li>0</li>\n",
       "\t<li>0</li>\n",
       "\t<li>0</li>\n",
       "\t<li>0</li>\n",
       "\t<li>0</li>\n",
       "\t<li>0</li>\n",
       "\t<li>0</li>\n",
       "\t<li>0</li>\n",
       "\t<li>1</li>\n",
       "\t<li>0</li>\n",
       "\t<li>0</li>\n",
       "\t<li>0</li>\n",
       "\t<li>0</li>\n",
       "\t<li>0</li>\n",
       "\t<li>1</li>\n",
       "\t<li>0</li>\n",
       "\t<li>0</li>\n",
       "\t<li>1</li>\n",
       "\t<li>0</li>\n",
       "\t<li>0</li>\n",
       "</ol>\n",
       "\n",
       "<details>\n",
       "\t<summary style=display:list-item;cursor:pointer>\n",
       "\t\t<strong>Levels</strong>:\n",
       "\t</summary>\n",
       "\t<ol class=list-inline>\n",
       "\t\t<li>'0'</li>\n",
       "\t\t<li>'1'</li>\n",
       "\t</ol>\n",
       "</details>"
      ],
      "text/latex": [
       "\\begin{enumerate*}\n",
       "\\item 0\n",
       "\\item 1\n",
       "\\item 1\n",
       "\\item 0\n",
       "\\item 0\n",
       "\\item 0\n",
       "\\item 1\n",
       "\\item 0\n",
       "\\item 1\n",
       "\\item 0\n",
       "\\item 0\n",
       "\\item 1\n",
       "\\item 0\n",
       "\\item 0\n",
       "\\item 1\n",
       "\\item 0\n",
       "\\item 0\n",
       "\\item 1\n",
       "\\item 0\n",
       "\\item 0\n",
       "\\item 1\n",
       "\\item 0\n",
       "\\item 0\n",
       "\\item 0\n",
       "\\item 0\n",
       "\\item 0\n",
       "\\item 0\n",
       "\\item 0\n",
       "\\item 1\n",
       "\\item 1\n",
       "\\item 0\n",
       "\\item 0\n",
       "\\item 0\n",
       "\\item 0\n",
       "\\item 0\n",
       "\\item 0\n",
       "\\item 0\n",
       "\\item 1\n",
       "\\item 0\n",
       "\\item 1\n",
       "\\item 0\n",
       "\\item 0\n",
       "\\item 1\n",
       "\\item 0\n",
       "\\item 0\n",
       "\\item 0\n",
       "\\item 0\n",
       "\\item 0\n",
       "\\item 0\n",
       "\\item 0\n",
       "\\item 0\n",
       "\\item 0\n",
       "\\item 0\n",
       "\\item 0\n",
       "\\item 0\n",
       "\\item 0\n",
       "\\item 1\n",
       "\\item 0\n",
       "\\item 0\n",
       "\\item 0\n",
       "\\item 0\n",
       "\\item 1\n",
       "\\item 1\n",
       "\\item 1\n",
       "\\item 0\n",
       "\\item 0\n",
       "\\item 0\n",
       "\\item 1\n",
       "\\item 0\n",
       "\\item 0\n",
       "\\item 0\n",
       "\\item 0\n",
       "\\item 1\n",
       "\\item 1\n",
       "\\item 0\n",
       "\\item 0\n",
       "\\item 1\n",
       "\\item 1\n",
       "\\item 1\n",
       "\\item 0\n",
       "\\item 0\n",
       "\\item 0\n",
       "\\item 1\n",
       "\\item 0\n",
       "\\item 0\n",
       "\\item 1\n",
       "\\item 1\n",
       "\\item 1\n",
       "\\item 0\n",
       "\\item 1\n",
       "\\item 1\n",
       "\\item 0\n",
       "\\item 1\n",
       "\\item 0\n",
       "\\item 0\n",
       "\\item 0\n",
       "\\item 1\n",
       "\\item 0\n",
       "\\item 1\n",
       "\\item 0\n",
       "\\item 1\n",
       "\\item 0\n",
       "\\item 1\n",
       "\\item 1\n",
       "\\item 1\n",
       "\\item 1\n",
       "\\item 0\n",
       "\\item 1\n",
       "\\item 0\n",
       "\\item 1\n",
       "\\item 0\n",
       "\\item 1\n",
       "\\item 0\n",
       "\\item 1\n",
       "\\item 0\n",
       "\\item 0\n",
       "\\item 1\n",
       "\\item 1\n",
       "\\item 1\n",
       "\\item 0\n",
       "\\item 0\n",
       "\\item 0\n",
       "\\item 0\n",
       "\\item 0\n",
       "\\item 0\n",
       "\\item 0\n",
       "\\item 0\n",
       "\\item 0\n",
       "\\item 1\n",
       "\\item 1\n",
       "\\item 0\n",
       "\\item 0\n",
       "\\item 0\n",
       "\\item 0\n",
       "\\item 0\n",
       "\\item 0\n",
       "\\item 1\n",
       "\\item 0\n",
       "\\item 1\n",
       "\\item 0\n",
       "\\item 0\n",
       "\\item 1\n",
       "\\item 0\n",
       "\\item 1\n",
       "\\item 0\n",
       "\\item 1\n",
       "\\item 1\n",
       "\\item 1\n",
       "\\item 0\n",
       "\\item 0\n",
       "\\item 0\n",
       "\\item 0\n",
       "\\item 0\n",
       "\\item 1\n",
       "\\item 1\n",
       "\\item 1\n",
       "\\item 0\n",
       "\\item 1\n",
       "\\item 0\n",
       "\\item 1\n",
       "\\item 0\n",
       "\\item 0\n",
       "\\item 0\n",
       "\\item 1\n",
       "\\item 0\n",
       "\\item 0\n",
       "\\item 0\n",
       "\\item 0\n",
       "\\item 1\n",
       "\\item 0\n",
       "\\item 0\n",
       "\\item 1\n",
       "\\item 1\n",
       "\\item 1\n",
       "\\item 0\n",
       "\\item 0\n",
       "\\item 0\n",
       "\\item 0\n",
       "\\item 0\n",
       "\\item 0\n",
       "\\item 0\n",
       "\\item 0\n",
       "\\item 1\n",
       "\\item 0\n",
       "\\item 0\n",
       "\\item 1\n",
       "\\item 1\n",
       "\\item 1\n",
       "\\item 0\n",
       "\\item 0\n",
       "\\item 0\n",
       "\\item 0\n",
       "\\item 0\n",
       "\\item 0\n",
       "\\item 1\n",
       "\\item 1\n",
       "\\item 0\n",
       "\\item 1\n",
       "\\item 0\n",
       "\\item 0\n",
       "\\item 0\n",
       "\\item 0\n",
       "\\item 0\n",
       "\\item 0\n",
       "\\item 0\n",
       "\\item 0\n",
       "\\item 0\n",
       "\\item 1\n",
       "\\item 0\n",
       "\\item 0\n",
       "\\item 0\n",
       "\\item 0\n",
       "\\item 1\n",
       "\\item 0\n",
       "\\item 0\n",
       "\\item 0\n",
       "\\item 0\n",
       "\\item 0\n",
       "\\item 0\n",
       "\\item 1\n",
       "\\item 0\n",
       "\\item 0\n",
       "\\item 1\n",
       "\\item 0\n",
       "\\item 1\n",
       "\\item 0\n",
       "\\item 1\n",
       "\\item 0\n",
       "\\item 1\n",
       "\\item 1\n",
       "\\item 0\n",
       "\\item 0\n",
       "\\item 0\n",
       "\\item 0\n",
       "\\item 0\n",
       "\\item 0\n",
       "\\item 0\n",
       "\\item 1\n",
       "\\item 0\n",
       "\\item 1\n",
       "\\item 0\n",
       "\\item 0\n",
       "\\item 0\n",
       "\\item 1\n",
       "\\item 0\n",
       "\\item 1\n",
       "\\item 0\n",
       "\\item 0\n",
       "\\item 0\n",
       "\\item 0\n",
       "\\item 0\n",
       "\\item 0\n",
       "\\item 0\n",
       "\\item 0\n",
       "\\item 0\n",
       "\\item 0\n",
       "\\item 1\n",
       "\\item 0\n",
       "\\item 0\n",
       "\\item 0\n",
       "\\item 0\n",
       "\\item 0\n",
       "\\item 1\n",
       "\\item 0\n",
       "\\item 0\n",
       "\\item 1\n",
       "\\item 0\n",
       "\\item 0\n",
       "\\end{enumerate*}\n",
       "\n",
       "\\emph{Levels}: \\begin{enumerate*}\n",
       "\\item '0'\n",
       "\\item '1'\n",
       "\\end{enumerate*}\n"
      ],
      "text/markdown": [
       "1. 0\n",
       "2. 1\n",
       "3. 1\n",
       "4. 0\n",
       "5. 0\n",
       "6. 0\n",
       "7. 1\n",
       "8. 0\n",
       "9. 1\n",
       "10. 0\n",
       "11. 0\n",
       "12. 1\n",
       "13. 0\n",
       "14. 0\n",
       "15. 1\n",
       "16. 0\n",
       "17. 0\n",
       "18. 1\n",
       "19. 0\n",
       "20. 0\n",
       "21. 1\n",
       "22. 0\n",
       "23. 0\n",
       "24. 0\n",
       "25. 0\n",
       "26. 0\n",
       "27. 0\n",
       "28. 0\n",
       "29. 1\n",
       "30. 1\n",
       "31. 0\n",
       "32. 0\n",
       "33. 0\n",
       "34. 0\n",
       "35. 0\n",
       "36. 0\n",
       "37. 0\n",
       "38. 1\n",
       "39. 0\n",
       "40. 1\n",
       "41. 0\n",
       "42. 0\n",
       "43. 1\n",
       "44. 0\n",
       "45. 0\n",
       "46. 0\n",
       "47. 0\n",
       "48. 0\n",
       "49. 0\n",
       "50. 0\n",
       "51. 0\n",
       "52. 0\n",
       "53. 0\n",
       "54. 0\n",
       "55. 0\n",
       "56. 0\n",
       "57. 1\n",
       "58. 0\n",
       "59. 0\n",
       "60. 0\n",
       "61. 0\n",
       "62. 1\n",
       "63. 1\n",
       "64. 1\n",
       "65. 0\n",
       "66. 0\n",
       "67. 0\n",
       "68. 1\n",
       "69. 0\n",
       "70. 0\n",
       "71. 0\n",
       "72. 0\n",
       "73. 1\n",
       "74. 1\n",
       "75. 0\n",
       "76. 0\n",
       "77. 1\n",
       "78. 1\n",
       "79. 1\n",
       "80. 0\n",
       "81. 0\n",
       "82. 0\n",
       "83. 1\n",
       "84. 0\n",
       "85. 0\n",
       "86. 1\n",
       "87. 1\n",
       "88. 1\n",
       "89. 0\n",
       "90. 1\n",
       "91. 1\n",
       "92. 0\n",
       "93. 1\n",
       "94. 0\n",
       "95. 0\n",
       "96. 0\n",
       "97. 1\n",
       "98. 0\n",
       "99. 1\n",
       "100. 0\n",
       "101. 1\n",
       "102. 0\n",
       "103. 1\n",
       "104. 1\n",
       "105. 1\n",
       "106. 1\n",
       "107. 0\n",
       "108. 1\n",
       "109. 0\n",
       "110. 1\n",
       "111. 0\n",
       "112. 1\n",
       "113. 0\n",
       "114. 1\n",
       "115. 0\n",
       "116. 0\n",
       "117. 1\n",
       "118. 1\n",
       "119. 1\n",
       "120. 0\n",
       "121. 0\n",
       "122. 0\n",
       "123. 0\n",
       "124. 0\n",
       "125. 0\n",
       "126. 0\n",
       "127. 0\n",
       "128. 0\n",
       "129. 1\n",
       "130. 1\n",
       "131. 0\n",
       "132. 0\n",
       "133. 0\n",
       "134. 0\n",
       "135. 0\n",
       "136. 0\n",
       "137. 1\n",
       "138. 0\n",
       "139. 1\n",
       "140. 0\n",
       "141. 0\n",
       "142. 1\n",
       "143. 0\n",
       "144. 1\n",
       "145. 0\n",
       "146. 1\n",
       "147. 1\n",
       "148. 1\n",
       "149. 0\n",
       "150. 0\n",
       "151. 0\n",
       "152. 0\n",
       "153. 0\n",
       "154. 1\n",
       "155. 1\n",
       "156. 1\n",
       "157. 0\n",
       "158. 1\n",
       "159. 0\n",
       "160. 1\n",
       "161. 0\n",
       "162. 0\n",
       "163. 0\n",
       "164. 1\n",
       "165. 0\n",
       "166. 0\n",
       "167. 0\n",
       "168. 0\n",
       "169. 1\n",
       "170. 0\n",
       "171. 0\n",
       "172. 1\n",
       "173. 1\n",
       "174. 1\n",
       "175. 0\n",
       "176. 0\n",
       "177. 0\n",
       "178. 0\n",
       "179. 0\n",
       "180. 0\n",
       "181. 0\n",
       "182. 0\n",
       "183. 1\n",
       "184. 0\n",
       "185. 0\n",
       "186. 1\n",
       "187. 1\n",
       "188. 1\n",
       "189. 0\n",
       "190. 0\n",
       "191. 0\n",
       "192. 0\n",
       "193. 0\n",
       "194. 0\n",
       "195. 1\n",
       "196. 1\n",
       "197. 0\n",
       "198. 1\n",
       "199. 0\n",
       "200. 0\n",
       "201. 0\n",
       "202. 0\n",
       "203. 0\n",
       "204. 0\n",
       "205. 0\n",
       "206. 0\n",
       "207. 0\n",
       "208. 1\n",
       "209. 0\n",
       "210. 0\n",
       "211. 0\n",
       "212. 0\n",
       "213. 1\n",
       "214. 0\n",
       "215. 0\n",
       "216. 0\n",
       "217. 0\n",
       "218. 0\n",
       "219. 0\n",
       "220. 1\n",
       "221. 0\n",
       "222. 0\n",
       "223. 1\n",
       "224. 0\n",
       "225. 1\n",
       "226. 0\n",
       "227. 1\n",
       "228. 0\n",
       "229. 1\n",
       "230. 1\n",
       "231. 0\n",
       "232. 0\n",
       "233. 0\n",
       "234. 0\n",
       "235. 0\n",
       "236. 0\n",
       "237. 0\n",
       "238. 1\n",
       "239. 0\n",
       "240. 1\n",
       "241. 0\n",
       "242. 0\n",
       "243. 0\n",
       "244. 1\n",
       "245. 0\n",
       "246. 1\n",
       "247. 0\n",
       "248. 0\n",
       "249. 0\n",
       "250. 0\n",
       "251. 0\n",
       "252. 0\n",
       "253. 0\n",
       "254. 0\n",
       "255. 0\n",
       "256. 0\n",
       "257. 1\n",
       "258. 0\n",
       "259. 0\n",
       "260. 0\n",
       "261. 0\n",
       "262. 0\n",
       "263. 1\n",
       "264. 0\n",
       "265. 0\n",
       "266. 1\n",
       "267. 0\n",
       "268. 0\n",
       "\n",
       "\n",
       "\n",
       "**Levels**: 1. '0'\n",
       "2. '1'\n",
       "\n",
       "\n"
      ],
      "text/plain": [
       "     1 2 3 5 6 7 15 18 23 25 27 33 34 35 42 49 52 53 56 58 59 61 65 70 73 76 78\n",
       "[1,] 0 1 1 0 0 0 1  0  1  0  0  1  0  0  1  0  0  1  0  0  1  0  0  0  0  0  0 \n",
       "     82 85 86 87 91 92 94 105 108 109 110 111 115 117 125 133 149 151 153 154\n",
       "[1,] 0  1  1  0  0  0  0  0   0   0   1   0   1   0   0   1   0   0   0   0  \n",
       "     155 156 159 161 166 168 170 177 181 184 186 188 190 192 195 199 200 203\n",
       "[1,] 0   0   0   0   0   0   0   0   0   1   0   0   0   0   1   1   1   0  \n",
       "     204 207 209 222 226 229 230 236 238 245 253 258 259 260 267 279 288 290\n",
       "[1,] 0   0   1   0   0   0   0   1   1   0   0   1   1   1   0   0   0   1  \n",
       "     293 294 298 300 301 309 313 317 318 323 325 327 329 330 334 335 337 338\n",
       "[1,] 0   0   1   1   1   0   1   1   0   1   0   0   0   1   0   1   0   1  \n",
       "     340 342 346 348 349 355 359 375 376 379 381 385 387 389 391 394 395 397\n",
       "[1,] 0   1   1   1   1   0   1   0   1   0   1   0   1   0   0   1   1   1  \n",
       "     401 402 403 406 409 411 414 423 425 432 441 446 457 461 463 466 467 470\n",
       "[1,] 0   0   0   0   0   0   0   0   0   1   1   0   0   0   0   0   0   1  \n",
       "     471 474 478 484 487 492 497 501 503 505 507 508 509 510 512 515 517 521\n",
       "[1,] 0   1   0   0   1   0   1   0   1   1   1   0   0   0   0   0   1   1  \n",
       "     524 530 541 543 547 549 552 554 555 561 562 563 567 572 575 576 581 582\n",
       "[1,] 1   0   1   0   1   0   0   0   1   0   0   0   0   1   0   0   1   1  \n",
       "     586 587 588 589 590 596 598 599 600 601 605 607 609 616 619 620 622 635\n",
       "[1,] 1   0   0   0   0   0   0   0   0   1   0   0   1   1   1   0   0   0  \n",
       "     638 641 647 650 655 656 658 661 665 676 678 680 686 688 689 691 711 712\n",
       "[1,] 0   0   0   1   1   0   1   0   0   0   0   0   0   0   0   0   1   0  \n",
       "     713 714 716 718 722 725 732 737 738 739 748 749 750 751 753 755 758 768\n",
       "[1,] 0   0   0   1   0   0   0   0   0   0   1   0   0   1   0   1   0   1  \n",
       "     770 775 778 779 785 790 791 792 798 800 802 806 808 809 814 815 817 820\n",
       "[1,] 0   1   1   0   0   0   0   0   0   0   1   0   1   0   0   0   1   0  \n",
       "     828 829 833 834 837 839 840 844 845 849 852 853 856 860 862 869 870 876\n",
       "[1,] 1   0   0   0   0   0   0   0   0   0   0   1   0   0   0   0   0   1  \n",
       "     878 883 886 887 890\n",
       "[1,] 0   0   1   0   0  \n",
       "Levels: 0 1"
      ]
     },
     "metadata": {},
     "output_type": "display_data"
    }
   ],
   "source": [
    "previsoes <- predict(object = fit_tree, newdata = test, type = 'class')\n",
    "t(previsoes)"
   ]
  },
  {
   "cell_type": "code",
   "execution_count": 38,
   "id": "ea0e4bf5",
   "metadata": {},
   "outputs": [
    {
     "data": {
      "text/plain": [
       "Confusion Matrix and Statistics\n",
       "\n",
       "          Reference\n",
       "Prediction   0   1\n",
       "         0 149  18\n",
       "         1  34  67\n",
       "                                          \n",
       "               Accuracy : 0.806           \n",
       "                 95% CI : (0.7535, 0.8516)\n",
       "    No Information Rate : 0.6828          \n",
       "    P-Value [Acc > NIR] : 4.352e-06       \n",
       "                                          \n",
       "                  Kappa : 0.5735          \n",
       "                                          \n",
       " Mcnemar's Test P-Value : 0.03751         \n",
       "                                          \n",
       "            Sensitivity : 0.7882          \n",
       "            Specificity : 0.8142          \n",
       "         Pos Pred Value : 0.6634          \n",
       "         Neg Pred Value : 0.8922          \n",
       "             Prevalence : 0.3172          \n",
       "         Detection Rate : 0.2500          \n",
       "   Detection Prevalence : 0.3769          \n",
       "      Balanced Accuracy : 0.8012          \n",
       "                                          \n",
       "       'Positive' Class : 1               \n",
       "                                          "
      ]
     },
     "metadata": {},
     "output_type": "display_data"
    }
   ],
   "source": [
    "confusionMatrix(data = factor(test$Survived), reference = previsoes, positive = '1')"
   ]
  },
  {
   "cell_type": "code",
   "execution_count": null,
   "id": "24f23f42",
   "metadata": {},
   "outputs": [],
   "source": []
  }
 ],
 "metadata": {
  "kernelspec": {
   "display_name": "R",
   "language": "R",
   "name": "ir"
  },
  "language_info": {
   "codemirror_mode": "r",
   "file_extension": ".r",
   "mimetype": "text/x-r-source",
   "name": "R",
   "pygments_lexer": "r",
   "version": "3.6.1"
  }
 },
 "nbformat": 4,
 "nbformat_minor": 5
}
