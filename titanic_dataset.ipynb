{
 "cells": [
  {
   "cell_type": "markdown",
   "id": "1d3d8fbb",
   "metadata": {},
   "source": [
    "# Titanic Dataset"
   ]
  },
  {
   "cell_type": "markdown",
   "id": "dccc844a",
   "metadata": {},
   "source": [
    "O conjunto de dados de teste conta com as seguintes variáveis: PassenderId: Passenger ID, Survived: Passnager Survival Indicator, Pclass: Passenger Class, Name: Name, Sex: Sex, Age: Age, SibSp: Number of Siblings/Spouses Aboard, Parch: Number of Parents/Children Aboard, Ticket: Ticket Number, Fare: Passenger Fare, Cabin: Cabin and Embarked: Port of Embarkation. \n",
    "Entretanto, vamos considerar as variáveis Survived, Pclass, Sex, Age, SibSp, Parch e Embarked."
   ]
  },
  {
   "cell_type": "markdown",
   "id": "0ddd7397",
   "metadata": {},
   "source": [
    "## Carregando o pacote titanic\n",
    "\n",
    "Vamos carregar o conjunto de dados por meio da biblioteca **titanic**."
   ]
  },
  {
   "cell_type": "code",
   "execution_count": 1,
   "id": "5033352c",
   "metadata": {},
   "outputs": [
    {
     "name": "stderr",
     "output_type": "stream",
     "text": [
      "Warning message:\n",
      "\"package 'titanic' was built under R version 3.6.3\""
     ]
    }
   ],
   "source": [
    "#install.packages('titanic')\n",
    "library('titanic')"
   ]
  },
  {
   "cell_type": "code",
   "execution_count": 26,
   "id": "9958ea58",
   "metadata": {},
   "outputs": [
    {
     "data": {
      "text/html": [
       "<table>\n",
       "<thead><tr><th scope=col>Survived</th><th scope=col>Pclass</th><th scope=col>Sex</th><th scope=col>Age</th><th scope=col>SibSp</th><th scope=col>Parch</th><th scope=col>Fare</th><th scope=col>Embarked</th></tr></thead>\n",
       "<tbody>\n",
       "\t<tr><td>0      </td><td>3      </td><td>male   </td><td>22     </td><td>1      </td><td>0      </td><td> 7.2500</td><td>S      </td></tr>\n",
       "\t<tr><td>1      </td><td>1      </td><td>female </td><td>38     </td><td>1      </td><td>0      </td><td>71.2833</td><td>C      </td></tr>\n",
       "\t<tr><td>1      </td><td>3      </td><td>female </td><td>26     </td><td>0      </td><td>0      </td><td> 7.9250</td><td>S      </td></tr>\n",
       "\t<tr><td>1      </td><td>1      </td><td>female </td><td>35     </td><td>1      </td><td>0      </td><td>53.1000</td><td>S      </td></tr>\n",
       "\t<tr><td>0      </td><td>3      </td><td>male   </td><td>35     </td><td>0      </td><td>0      </td><td> 8.0500</td><td>S      </td></tr>\n",
       "\t<tr><td>0      </td><td>3      </td><td>male   </td><td>NA     </td><td>0      </td><td>0      </td><td> 8.4583</td><td>Q      </td></tr>\n",
       "</tbody>\n",
       "</table>\n"
      ],
      "text/latex": [
       "\\begin{tabular}{r|llllllll}\n",
       " Survived & Pclass & Sex & Age & SibSp & Parch & Fare & Embarked\\\\\n",
       "\\hline\n",
       "\t 0       & 3       & male    & 22      & 1       & 0       &  7.2500 & S      \\\\\n",
       "\t 1       & 1       & female  & 38      & 1       & 0       & 71.2833 & C      \\\\\n",
       "\t 1       & 3       & female  & 26      & 0       & 0       &  7.9250 & S      \\\\\n",
       "\t 1       & 1       & female  & 35      & 1       & 0       & 53.1000 & S      \\\\\n",
       "\t 0       & 3       & male    & 35      & 0       & 0       &  8.0500 & S      \\\\\n",
       "\t 0       & 3       & male    & NA      & 0       & 0       &  8.4583 & Q      \\\\\n",
       "\\end{tabular}\n"
      ],
      "text/markdown": [
       "\n",
       "| Survived | Pclass | Sex | Age | SibSp | Parch | Fare | Embarked |\n",
       "|---|---|---|---|---|---|---|---|\n",
       "| 0       | 3       | male    | 22      | 1       | 0       |  7.2500 | S       |\n",
       "| 1       | 1       | female  | 38      | 1       | 0       | 71.2833 | C       |\n",
       "| 1       | 3       | female  | 26      | 0       | 0       |  7.9250 | S       |\n",
       "| 1       | 1       | female  | 35      | 1       | 0       | 53.1000 | S       |\n",
       "| 0       | 3       | male    | 35      | 0       | 0       |  8.0500 | S       |\n",
       "| 0       | 3       | male    | NA      | 0       | 0       |  8.4583 | Q       |\n",
       "\n"
      ],
      "text/plain": [
       "  Survived Pclass Sex    Age SibSp Parch Fare    Embarked\n",
       "1 0        3      male   22  1     0      7.2500 S       \n",
       "2 1        1      female 38  1     0     71.2833 C       \n",
       "3 1        3      female 26  0     0      7.9250 S       \n",
       "4 1        1      female 35  1     0     53.1000 S       \n",
       "5 0        3      male   35  0     0      8.0500 S       \n",
       "6 0        3      male   NA  0     0      8.4583 Q       "
      ]
     },
     "metadata": {},
     "output_type": "display_data"
    }
   ],
   "source": [
    "#install.packages('knitr', dependencies = TRUE)\n",
    "titanic_df <- subset(titanic_train, select = c('Survived', 'Pclass', 'Sex', 'Age', 'SibSp', 'Parch', 'Fare','Embarked'))\n",
    "#knitr::kable(head(titanic_df))\n",
    "head(titanic_df)"
   ]
  },
  {
   "cell_type": "markdown",
   "id": "0f68ac8d",
   "metadata": {},
   "source": [
    "O conjunto de dados de treino conta com 891 observações e o conjunto de teste com 418 observações."
   ]
  },
  {
   "cell_type": "code",
   "execution_count": 14,
   "id": "494c8e6d",
   "metadata": {},
   "outputs": [
    {
     "data": {
      "text/html": [
       "<ol class=list-inline>\n",
       "\t<li>891</li>\n",
       "\t<li>8</li>\n",
       "</ol>\n"
      ],
      "text/latex": [
       "\\begin{enumerate*}\n",
       "\\item 891\n",
       "\\item 8\n",
       "\\end{enumerate*}\n"
      ],
      "text/markdown": [
       "1. 891\n",
       "2. 8\n",
       "\n",
       "\n"
      ],
      "text/plain": [
       "[1] 891   8"
      ]
     },
     "metadata": {},
     "output_type": "display_data"
    }
   ],
   "source": [
    "dim(titanic_df)"
   ]
  },
  {
   "cell_type": "code",
   "execution_count": 15,
   "id": "471805eb",
   "metadata": {},
   "outputs": [
    {
     "name": "stdout",
     "output_type": "stream",
     "text": [
      "'data.frame':\t891 obs. of  8 variables:\n",
      " $ Survived: int  0 1 1 1 0 0 0 0 1 1 ...\n",
      " $ Pclass  : int  3 1 3 1 3 3 1 3 3 2 ...\n",
      " $ Sex     : chr  \"male\" \"female\" \"female\" \"female\" ...\n",
      " $ Age     : num  22 38 26 35 35 NA 54 2 27 14 ...\n",
      " $ SibSp   : int  1 1 0 1 0 0 0 3 0 1 ...\n",
      " $ Parch   : int  0 0 0 0 0 0 0 1 2 0 ...\n",
      " $ Fare    : num  7.25 71.28 7.92 53.1 8.05 ...\n",
      " $ Embarked: chr  \"S\" \"C\" \"S\" \"S\" ...\n"
     ]
    }
   ],
   "source": [
    "str(titanic_df)"
   ]
  },
  {
   "cell_type": "code",
   "execution_count": 3,
   "id": "c6c9db9b",
   "metadata": {},
   "outputs": [
    {
     "data": {
      "text/html": [
       "<table>\n",
       "<thead><tr><th scope=col>Survived</th><th scope=col>Pclass</th><th scope=col>Sex</th><th scope=col>Age</th><th scope=col>SibSp</th><th scope=col>Parch</th><th scope=col>Fare</th><th scope=col>Embarked</th></tr></thead>\n",
       "<tbody>\n",
       "\t<tr><td>0  </td><td>0  </td><td>0  </td><td>177</td><td>0  </td><td>0  </td><td>0  </td><td>0  </td></tr>\n",
       "</tbody>\n",
       "</table>\n"
      ],
      "text/latex": [
       "\\begin{tabular}{llllllll}\n",
       " Survived & Pclass & Sex & Age & SibSp & Parch & Fare & Embarked\\\\\n",
       "\\hline\n",
       "\t 0   & 0   & 0   & 177 & 0   & 0   & 0   & 0  \\\\\n",
       "\\end{tabular}\n"
      ],
      "text/markdown": [
       "\n",
       "| Survived | Pclass | Sex | Age | SibSp | Parch | Fare | Embarked |\n",
       "|---|---|---|---|---|---|---|---|\n",
       "| 0   | 0   | 0   | 177 | 0   | 0   | 0   | 0   |\n",
       "\n"
      ],
      "text/plain": [
       "     Survived Pclass Sex Age SibSp Parch Fare Embarked\n",
       "[1,] 0        0      0   177 0     0     0    0       "
      ]
     },
     "metadata": {},
     "output_type": "display_data"
    }
   ],
   "source": [
    "na_sum <- apply(X = titanic_df, MARGIN = 2, FUN = function(x) sum(is.na(x)))\n",
    "t(na_sum)              "
   ]
  },
  {
   "cell_type": "markdown",
   "id": "30df7ddf",
   "metadata": {},
   "source": [
    "Vamos remover as observações com valores faltantes e considerar apenas as demais observações."
   ]
  },
  {
   "cell_type": "code",
   "execution_count": 28,
   "id": "259c072e",
   "metadata": {},
   "outputs": [
    {
     "data": {
      "image/png": "[encoded data removed]",
      "text/plain": [
       "Plot with title \"Missingness Map\""
      ]
     },
     "metadata": {},
     "output_type": "display_data"
    }
   ],
   "source": [
    "options(repr.plot.res = 75)\n",
    "library(Amelia)\n",
    "missmap(titanic_df, col=c('red', 'white'))"
   ]
  },
  {
   "cell_type": "code",
   "execution_count": 29,
   "id": "82da2d89",
   "metadata": {},
   "outputs": [
    {
     "data": {
      "text/html": [
       "<table>\n",
       "<thead><tr><th></th><th scope=col>Survived</th><th scope=col>Pclass</th><th scope=col>Sex</th><th scope=col>Age</th><th scope=col>SibSp</th><th scope=col>Parch</th><th scope=col>Fare</th><th scope=col>Embarked</th></tr></thead>\n",
       "<tbody>\n",
       "\t<tr><th scope=row>1</th><td>0      </td><td>3      </td><td>male   </td><td>22     </td><td>1      </td><td>0      </td><td> 7.2500</td><td>S      </td></tr>\n",
       "\t<tr><th scope=row>2</th><td>1      </td><td>1      </td><td>female </td><td>38     </td><td>1      </td><td>0      </td><td>71.2833</td><td>C      </td></tr>\n",
       "\t<tr><th scope=row>3</th><td>1      </td><td>3      </td><td>female </td><td>26     </td><td>0      </td><td>0      </td><td> 7.9250</td><td>S      </td></tr>\n",
       "\t<tr><th scope=row>4</th><td>1      </td><td>1      </td><td>female </td><td>35     </td><td>1      </td><td>0      </td><td>53.1000</td><td>S      </td></tr>\n",
       "\t<tr><th scope=row>5</th><td>0      </td><td>3      </td><td>male   </td><td>35     </td><td>0      </td><td>0      </td><td> 8.0500</td><td>S      </td></tr>\n",
       "\t<tr><th scope=row>7</th><td>0      </td><td>1      </td><td>male   </td><td>54     </td><td>0      </td><td>0      </td><td>51.8625</td><td>S      </td></tr>\n",
       "</tbody>\n",
       "</table>\n"
      ],
      "text/latex": [
       "\\begin{tabular}{r|llllllll}\n",
       "  & Survived & Pclass & Sex & Age & SibSp & Parch & Fare & Embarked\\\\\n",
       "\\hline\n",
       "\t1 & 0       & 3       & male    & 22      & 1       & 0       &  7.2500 & S      \\\\\n",
       "\t2 & 1       & 1       & female  & 38      & 1       & 0       & 71.2833 & C      \\\\\n",
       "\t3 & 1       & 3       & female  & 26      & 0       & 0       &  7.9250 & S      \\\\\n",
       "\t4 & 1       & 1       & female  & 35      & 1       & 0       & 53.1000 & S      \\\\\n",
       "\t5 & 0       & 3       & male    & 35      & 0       & 0       &  8.0500 & S      \\\\\n",
       "\t7 & 0       & 1       & male    & 54      & 0       & 0       & 51.8625 & S      \\\\\n",
       "\\end{tabular}\n"
      ],
      "text/markdown": [
       "\n",
       "| <!--/--> | Survived | Pclass | Sex | Age | SibSp | Parch | Fare | Embarked |\n",
       "|---|---|---|---|---|---|---|---|---|\n",
       "| 1 | 0       | 3       | male    | 22      | 1       | 0       |  7.2500 | S       |\n",
       "| 2 | 1       | 1       | female  | 38      | 1       | 0       | 71.2833 | C       |\n",
       "| 3 | 1       | 3       | female  | 26      | 0       | 0       |  7.9250 | S       |\n",
       "| 4 | 1       | 1       | female  | 35      | 1       | 0       | 53.1000 | S       |\n",
       "| 5 | 0       | 3       | male    | 35      | 0       | 0       |  8.0500 | S       |\n",
       "| 7 | 0       | 1       | male    | 54      | 0       | 0       | 51.8625 | S       |\n",
       "\n"
      ],
      "text/plain": [
       "  Survived Pclass Sex    Age SibSp Parch Fare    Embarked\n",
       "1 0        3      male   22  1     0      7.2500 S       \n",
       "2 1        1      female 38  1     0     71.2833 C       \n",
       "3 1        3      female 26  0     0      7.9250 S       \n",
       "4 1        1      female 35  1     0     53.1000 S       \n",
       "5 0        3      male   35  0     0      8.0500 S       \n",
       "7 0        1      male   54  0     0     51.8625 S       "
      ]
     },
     "metadata": {},
     "output_type": "display_data"
    }
   ],
   "source": [
    "titanic_df <- na.omit(titanic_df)\n",
    "head(titanic_df)"
   ]
  },
  {
   "cell_type": "markdown",
   "id": "8a7db357",
   "metadata": {},
   "source": [
    "Agora, o conjunto de dados conta com 714 observações."
   ]
  },
  {
   "cell_type": "code",
   "execution_count": 9,
   "id": "4e1454f6",
   "metadata": {},
   "outputs": [
    {
     "data": {
      "text/html": [
       "714"
      ],
      "text/latex": [
       "714"
      ],
      "text/markdown": [
       "714"
      ],
      "text/plain": [
       "[1] 714"
      ]
     },
     "metadata": {},
     "output_type": "display_data"
    }
   ],
   "source": [
    "nrow(titanic_df)"
   ]
  },
  {
   "cell_type": "markdown",
   "id": "ef23f800",
   "metadata": {},
   "source": [
    "### Vizualização dos dados"
   ]
  },
  {
   "cell_type": "code",
   "execution_count": 7,
   "id": "0a6c954e",
   "metadata": {},
   "outputs": [
    {
     "data": {
      "image/png": "[encoded data removed]",
      "text/plain": [
       "plot without title"
      ]
     },
     "metadata": {},
     "output_type": "display_data"
    }
   ],
   "source": [
    "options(repr.plot.res = 60)\n",
    "library(ggplot2)\n",
    "ggplot(titanic_df, aes(x = Survived)) +\n",
    "  geom_bar(width=0.5, fill = \"coral\") +\n",
    "  geom_text(stat='count', aes(label=stat(count)), vjust=-0.5) +\n",
    "  theme_classic()"
   ]
  },
  {
   "cell_type": "code",
   "execution_count": 21,
   "id": "9a3acc3e",
   "metadata": {},
   "outputs": [
    {
     "data": {
      "image/png": "[encoded data removed]",
      "text/plain": [
       "plot without title"
      ]
     },
     "metadata": {},
     "output_type": "display_data"
    }
   ],
   "source": [
    "options(repr.plot.res = 60)\n",
    "ggplot(titanic_df, aes(x = Survived, fill=Sex)) +\n",
    " geom_bar(position = position_dodge()) +\n",
    " geom_text(stat='count', \n",
    "           aes(label=stat(count)), \n",
    "           position = position_dodge(width=1), vjust=-0.5)+\n",
    " theme_classic()"
   ]
  },
  {
   "cell_type": "code",
   "execution_count": 33,
   "id": "b6608b94",
   "metadata": {},
   "outputs": [
    {
     "data": {
      "image/png": "[encoded data removed]",
      "text/plain": [
       "plot without title"
      ]
     },
     "metadata": {},
     "output_type": "display_data"
    }
   ],
   "source": [
    "options(repr.plot.res = 60)\n",
    "ggplot(titanic_df, aes(x = Age)) +\n",
    " geom_histogram(color=\"black\", fill=\"coral\", binwidth = 5) +\n",
    " theme_classic()"
   ]
  },
  {
   "cell_type": "code",
   "execution_count": 35,
   "id": "36ceae33",
   "metadata": {},
   "outputs": [
    {
     "data": {
      "image/png": "[encoded data removed]",
      "text/plain": [
       "plot without title"
      ]
     },
     "metadata": {},
     "output_type": "display_data"
    }
   ],
   "source": [
    "options(repr.plot.res = 60)\n",
    "ggplot(titanic_df, aes(x = Age, fill = Survived)) +\n",
    " geom_histogram(color=\"black\", binwidth = 5) +\n",
    " theme_classic()"
   ]
  },
  {
   "cell_type": "code",
   "execution_count": 18,
   "id": "8f2f1dd2",
   "metadata": {},
   "outputs": [],
   "source": [
    "titanic_df$Survived <- factor(titanic_df$Survived)\n",
    "titanic_df$Pclass <- factor(titanic_df$Pclass, order=TRUE, levels = c(3, 2, 1))\n",
    "#titanic_df$SibSp <- factor(titanic_df$SibSp)\n",
    "#titanic_df$Parch <- factor(titanic_df$Parch)"
   ]
  },
  {
   "cell_type": "markdown",
   "id": "1d112661",
   "metadata": {},
   "source": [
    "### Diagrama de correlação"
   ]
  },
  {
   "cell_type": "code",
   "execution_count": 59,
   "id": "4e7ec417",
   "metadata": {},
   "outputs": [
    {
     "data": {
      "image/png": "[encoded data removed]",
      "text/plain": [
       "plot without title"
      ]
     },
     "metadata": {},
     "output_type": "display_data"
    }
   ],
   "source": [
    "#install.packages('GGally')\n",
    "library(GGally)\n",
    "\n",
    "options(repr.plot.res = 60, warn = -1)\n",
    "ggcorr(titanic_df,\n",
    "       nbreaks = 4,\n",
    "       label = TRUE,\n",
    "       label_size = 5,\n",
    "       color = 'grey50')"
   ]
  },
  {
   "cell_type": "code",
   "execution_count": 63,
   "id": "915ffe55",
   "metadata": {},
   "outputs": [
    {
     "data": {
      "image/png": "[encoded data removed]",
      "text/plain": [
       "plot without title"
      ]
     },
     "metadata": {},
     "output_type": "display_data"
    }
   ],
   "source": [
    "options(repr.plot.res = 60, warn = 0)\n",
    "ggplot(titanic_df, aes(x = Survived, fill=Pclass)) +\n",
    " geom_bar(position = position_dodge()) +\n",
    " geom_text(stat='count', \n",
    "           aes(label=stat(count)), \n",
    "           position = position_dodge(width=1), \n",
    "           vjust=-0.5)+\n",
    " theme_classic()"
   ]
  },
  {
   "cell_type": "code",
   "execution_count": 21,
   "id": "78785a8a",
   "metadata": {},
   "outputs": [
    {
     "data": {
      "image/png": "[encoded data removed]",
      "text/plain": [
       "plot without title"
      ]
     },
     "metadata": {},
     "output_type": "display_data"
    }
   ],
   "source": [
    "options(repr.plot.res = 60, warn = 0)\n",
    "ggplot(titanic_df, aes(x = Survived, fill = Parch)) +\n",
    " geom_bar(position = position_dodge()) +\n",
    " geom_text(stat='count', \n",
    "           aes(label=stat(count)), \n",
    "           position = position_dodge(width=1), \n",
    "           vjust=-0.5)+\n",
    " theme_classic()"
   ]
  },
  {
   "cell_type": "code",
   "execution_count": 22,
   "id": "1891d6f2",
   "metadata": {},
   "outputs": [
    {
     "data": {
      "image/png": "[encoded data removed]",
      "text/plain": [
       "plot without title"
      ]
     },
     "metadata": {},
     "output_type": "display_data"
    }
   ],
   "source": [
    "ggplot(titanic_df, aes(x = Survived, fill = SibSp)) +\n",
    " geom_bar(position = position_dodge()) +\n",
    " geom_text(stat='count', \n",
    "           aes(label=stat(count)), \n",
    "           position = position_dodge(width=1), \n",
    "           vjust=-0.5)+\n",
    " theme_classic()"
   ]
  },
  {
   "cell_type": "code",
   "execution_count": 23,
   "id": "eef41958",
   "metadata": {},
   "outputs": [
    {
     "data": {
      "image/png": "[encoded data removed]",
      "text/plain": [
       "plot without title"
      ]
     },
     "metadata": {},
     "output_type": "display_data"
    }
   ],
   "source": [
    "options(repr.plot.res = 75, warn = 0)\n",
    "ggplot(titanic_df, aes(x = Age)) +\n",
    " geom_density(fill='coral') +\n",
    "theme_classic()"
   ]
  },
  {
   "cell_type": "markdown",
   "id": "81cc3246",
   "metadata": {},
   "source": [
    "## Separando o conjunto de dados de treinamento e teste\n",
    "\n",
    "Vamos dividir o conjunto de dados considerando 75% para o treinamento e os 25% restantes para o teste."
   ]
  },
  {
   "cell_type": "code",
   "execution_count": 53,
   "id": "415f09e5",
   "metadata": {},
   "outputs": [],
   "source": [
    "n_train <- floor(nrow(titanic_df) * 0.75)\n",
    "set.seed(27012022)\n",
    "smp_obs <- sample(x = nrow(titanic_df), size = n_train, replace = F)\n",
    "train <- titanic_df[smp_obs,]\n",
    "test <- titanic_df[-smp_obs,]"
   ]
  },
  {
   "cell_type": "code",
   "execution_count": 55,
   "id": "d346328d",
   "metadata": {},
   "outputs": [
    {
     "data": {
      "text/html": [
       "535"
      ],
      "text/latex": [
       "535"
      ],
      "text/markdown": [
       "535"
      ],
      "text/plain": [
       "[1] 535"
      ]
     },
     "metadata": {},
     "output_type": "display_data"
    }
   ],
   "source": [
    "nrow(train) # conjunto de treinamento"
   ]
  },
  {
   "cell_type": "code",
   "execution_count": 54,
   "id": "7b8089d9",
   "metadata": {},
   "outputs": [
    {
     "data": {
      "text/html": [
       "179"
      ],
      "text/latex": [
       "179"
      ],
      "text/markdown": [
       "179"
      ],
      "text/plain": [
       "[1] 179"
      ]
     },
     "metadata": {},
     "output_type": "display_data"
    }
   ],
   "source": [
    "nrow(test) # conjunto de teste"
   ]
  },
  {
   "cell_type": "markdown",
   "id": "392380f6",
   "metadata": {},
   "source": [
    "### Árvores de decisão"
   ]
  },
  {
   "cell_type": "code",
   "execution_count": 123,
   "id": "d31fc81d",
   "metadata": {},
   "outputs": [],
   "source": [
    "#install.packages('rpart')\n",
    "#install.packages('rpart.plot')\n",
    "library(rpart) # carregando biblioteca\n",
    "library(rpart.plot)"
   ]
  },
  {
   "cell_type": "code",
   "execution_count": 124,
   "id": "656be928",
   "metadata": {},
   "outputs": [
    {
     "data": {
      "image/png": "[encoded data removed]",
      "text/plain": [
       "plot without title"
      ]
     },
     "metadata": {},
     "output_type": "display_data"
    }
   ],
   "source": [
    "fit_tree <- rpart(Survived~., data = train, method = 'class')\n",
    "\n",
    "options(repr.plot.res = 100, warn = 0)\n",
    "rpart.plot(fit_tree, extra = 106)"
   ]
  },
  {
   "cell_type": "code",
   "execution_count": 125,
   "id": "67fec018",
   "metadata": {},
   "outputs": [],
   "source": [
    "library(caret) # carregando biblioteca"
   ]
  },
  {
   "cell_type": "code",
   "execution_count": 126,
   "id": "1ad60e63",
   "metadata": {},
   "outputs": [],
   "source": [
    "previsoes <- predict(object = fit_tree, newdata = test, type = 'class')"
   ]
  },
  {
   "cell_type": "code",
   "execution_count": 128,
   "id": "ea0e4bf5",
   "metadata": {},
   "outputs": [
    {
     "data": {
      "text/plain": [
       "Confusion Matrix and Statistics\n",
       "\n",
       "          Reference\n",
       "Prediction  0  1\n",
       "         0 88 12\n",
       "         1 31 48\n",
       "                                          \n",
       "               Accuracy : 0.7598          \n",
       "                 95% CI : (0.6904, 0.8204)\n",
       "    No Information Rate : 0.6648          \n",
       "    P-Value [Acc > NIR] : 0.003736        \n",
       "                                          \n",
       "                  Kappa : 0.5002          \n",
       "                                          \n",
       " Mcnemar's Test P-Value : 0.006052        \n",
       "                                          \n",
       "            Sensitivity : 0.8000          \n",
       "            Specificity : 0.7395          \n",
       "         Pos Pred Value : 0.6076          \n",
       "         Neg Pred Value : 0.8800          \n",
       "             Prevalence : 0.3352          \n",
       "         Detection Rate : 0.2682          \n",
       "   Detection Prevalence : 0.4413          \n",
       "      Balanced Accuracy : 0.7697          \n",
       "                                          \n",
       "       'Positive' Class : 1               \n",
       "                                          "
      ]
     },
     "metadata": {},
     "output_type": "display_data"
    }
   ],
   "source": [
    "confusionMatrix(data = factor(test$Survived), reference = previsoes, positive = '1')"
   ]
  },
  {
   "cell_type": "code",
   "execution_count": 129,
   "id": "24f23f42",
   "metadata": {},
   "outputs": [],
   "source": [
    "control = rpart.control(minsplit = 8,\n",
    "                         minbucket = 2,\n",
    "                         maxdepth = 6,\n",
    "                         cp = 0)\n",
    "tuned_fit = rpart(Survived ~ ., data = train, method = 'class', control = control)\n",
    "dt_predict = predict(tuned_fit, test, type = 'class')"
   ]
  },
  {
   "cell_type": "code",
   "execution_count": 130,
   "id": "7fb5bebc",
   "metadata": {},
   "outputs": [
    {
     "data": {
      "text/plain": [
       "Confusion Matrix and Statistics\n",
       "\n",
       "          Reference\n",
       "Prediction  0  1\n",
       "         0 91 32\n",
       "         1  9 47\n",
       "                                          \n",
       "               Accuracy : 0.7709          \n",
       "                 95% CI : (0.7024, 0.8303)\n",
       "    No Information Rate : 0.5587          \n",
       "    P-Value [Acc > NIR] : 2.653e-09       \n",
       "                                          \n",
       "                  Kappa : 0.5209          \n",
       "                                          \n",
       " Mcnemar's Test P-Value : 0.0005908       \n",
       "                                          \n",
       "            Sensitivity : 0.5949          \n",
       "            Specificity : 0.9100          \n",
       "         Pos Pred Value : 0.8393          \n",
       "         Neg Pred Value : 0.7398          \n",
       "             Prevalence : 0.4413          \n",
       "         Detection Rate : 0.2626          \n",
       "   Detection Prevalence : 0.3128          \n",
       "      Balanced Accuracy : 0.7525          \n",
       "                                          \n",
       "       'Positive' Class : 1               \n",
       "                                          "
      ]
     },
     "metadata": {},
     "output_type": "display_data"
    }
   ],
   "source": [
    "confusionMatrix(reference = factor(test$Survived), data = dt_predict, positive = '1')"
   ]
  },
  {
   "cell_type": "markdown",
   "id": "123150e3",
   "metadata": {},
   "source": [
    "### Regressão logística"
   ]
  },
  {
   "cell_type": "code",
   "execution_count": 61,
   "id": "fd40a927",
   "metadata": {},
   "outputs": [
    {
     "data": {
      "text/plain": [
       "\n",
       "Call:\n",
       "glm(formula = Survived ~ ., family = binomial(link = \"logit\"), \n",
       "    data = train)\n",
       "\n",
       "Deviance Residuals: \n",
       "    Min       1Q   Median       3Q      Max  \n",
       "-2.7144  -0.5910  -0.3638   0.5675   2.5050  \n",
       "\n",
       "Coefficients:\n",
       "              Estimate Std. Error z value Pr(>|z|)    \n",
       "(Intercept)  18.115920 606.323181   0.030   0.9762    \n",
       "Pclass       -1.272750   0.197514  -6.444 1.16e-10 ***\n",
       "Sexmale      -2.820962   0.269040 -10.485  < 2e-16 ***\n",
       "Age          -0.045685   0.009712  -4.704 2.55e-06 ***\n",
       "SibSp        -0.304747   0.148607  -2.051   0.0403 *  \n",
       "Parch        -0.220100   0.152307  -1.445   0.1484    \n",
       "Fare          0.001155   0.003145   0.367   0.7135    \n",
       "EmbarkedC   -12.239797 606.322855  -0.020   0.9839    \n",
       "EmbarkedQ   -13.262745 606.323176  -0.022   0.9825    \n",
       "EmbarkedS   -12.523236 606.322825  -0.021   0.9835    \n",
       "---\n",
       "Signif. codes:  0 '***' 0.001 '**' 0.01 '*' 0.05 '.' 0.1 ' ' 1\n",
       "\n",
       "(Dispersion parameter for binomial family taken to be 1)\n",
       "\n",
       "    Null deviance: 717.62  on 534  degrees of freedom\n",
       "Residual deviance: 451.35  on 525  degrees of freedom\n",
       "AIC: 471.35\n",
       "\n",
       "Number of Fisher Scoring iterations: 13\n"
      ]
     },
     "metadata": {},
     "output_type": "display_data"
    }
   ],
   "source": [
    "fit_glm <- glm(Survived ~ ., data = train, family = binomial(link = 'logit'))\n",
    "summary(fit_glm)"
   ]
  },
  {
   "cell_type": "code",
   "execution_count": 63,
   "id": "a70450c2",
   "metadata": {},
   "outputs": [
    {
     "name": "stdout",
     "output_type": "stream",
     "text": [
      "Start:  AIC=471.35\n",
      "Survived ~ Pclass + Sex + Age + SibSp + Parch + Fare + Embarked\n",
      "\n",
      "           Df Deviance    AIC\n",
      "- Embarked  3   453.86 467.86\n",
      "- Fare      1   451.48 469.48\n",
      "<none>          451.35 471.35\n",
      "- Parch     1   453.58 471.58\n",
      "- SibSp     1   455.79 473.79\n",
      "- Age       1   475.77 493.77\n",
      "- Pclass    1   494.52 512.52\n",
      "- Sex       1   592.30 610.30\n",
      "\n",
      "Step:  AIC=467.86\n",
      "Survived ~ Pclass + Sex + Age + SibSp + Parch + Fare\n",
      "\n",
      "         Df Deviance    AIC\n",
      "- Fare    1   454.17 466.17\n",
      "<none>        453.86 467.86\n",
      "- Parch   1   456.16 468.16\n",
      "- SibSp   1   458.79 470.79\n",
      "- Age     1   478.26 490.26\n",
      "- Pclass  1   499.96 511.96\n",
      "- Sex     1   597.91 609.91\n",
      "\n",
      "Step:  AIC=466.17\n",
      "Survived ~ Pclass + Sex + Age + SibSp + Parch\n",
      "\n",
      "         Df Deviance    AIC\n",
      "<none>        454.17 466.17\n",
      "- Parch   1   456.19 466.19\n",
      "- SibSp   1   458.87 468.87\n",
      "- Age     1   479.34 489.34\n",
      "- Pclass  1   534.66 544.66\n",
      "- Sex     1   598.88 608.88\n"
     ]
    },
    {
     "data": {
      "text/plain": [
       "\n",
       "Call:  glm(formula = Survived ~ Pclass + Sex + Age + SibSp + Parch, \n",
       "    family = binomial(link = \"logit\"), data = train)\n",
       "\n",
       "Coefficients:\n",
       "(Intercept)       Pclass      Sexmale          Age        SibSp        Parch  \n",
       "    5.84018     -1.36299     -2.80884     -0.04581     -0.30426     -0.20001  \n",
       "\n",
       "Degrees of Freedom: 534 Total (i.e. Null);  529 Residual\n",
       "Null Deviance:\t    717.6 \n",
       "Residual Deviance: 454.2 \tAIC: 466.2"
      ]
     },
     "metadata": {},
     "output_type": "display_data"
    }
   ],
   "source": [
    "library(MASS) # carregando biblioteca MASS\n",
    "stepAIC(fit_glm) # seleção das covariáveis que vão compor o modelo (via AIC)"
   ]
  },
  {
   "cell_type": "code",
   "execution_count": 131,
   "id": "bf8631a1",
   "metadata": {},
   "outputs": [
    {
     "data": {
      "text/plain": [
       "\n",
       "Call:\n",
       "glm(formula = Survived ~ Pclass + Sex + Age + SibSp + Parch, \n",
       "    family = binomial(link = \"logit\"), data = train)\n",
       "\n",
       "Deviance Residuals: \n",
       "    Min       1Q   Median       3Q      Max  \n",
       "-2.7226  -0.6108  -0.3675   0.5725   2.5149  \n",
       "\n",
       "Coefficients:\n",
       "             Estimate Std. Error z value Pr(>|z|)    \n",
       "(Intercept)  5.840184   0.647670   9.017  < 2e-16 ***\n",
       "Pclass      -1.362990   0.167302  -8.147 3.73e-16 ***\n",
       "Sexmale     -2.808840   0.263721 -10.651  < 2e-16 ***\n",
       "Age         -0.045812   0.009595  -4.774 1.80e-06 ***\n",
       "SibSp       -0.304256   0.144444  -2.106   0.0352 *  \n",
       "Parch       -0.200007   0.144829  -1.381   0.1673    \n",
       "---\n",
       "Signif. codes:  0 '***' 0.001 '**' 0.01 '*' 0.05 '.' 0.1 ' ' 1\n",
       "\n",
       "(Dispersion parameter for binomial family taken to be 1)\n",
       "\n",
       "    Null deviance: 717.62  on 534  degrees of freedom\n",
       "Residual deviance: 454.17  on 529  degrees of freedom\n",
       "AIC: 466.17\n",
       "\n",
       "Number of Fisher Scoring iterations: 5\n"
      ]
     },
     "metadata": {},
     "output_type": "display_data"
    }
   ],
   "source": [
    "fit_glm <- glm(formula = Survived ~ Pclass + Sex + Age + SibSp + Parch, \n",
    "    family = binomial(link = \"logit\"), data = train)\n",
    "summary(fit_glm)"
   ]
  },
  {
   "cell_type": "code",
   "execution_count": 132,
   "id": "636561cd",
   "metadata": {},
   "outputs": [
    {
     "name": "stderr",
     "output_type": "stream",
     "text": [
      "Setting levels: control = 0, case = 1\n",
      "Setting direction: controls < cases\n"
     ]
    },
    {
     "data": {
      "image/png": "[encoded data removed]",
      "text/plain": [
       "plot without title"
      ]
     },
     "metadata": {},
     "output_type": "display_data"
    }
   ],
   "source": [
    "library(pROC)\n",
    "previsoes <- predict(object = fit_glm, newdata = test, type = 'response')\n",
    "test_roc = roc(test$Survived ~ previsoes, plot = TRUE, print.auc = TRUE)"
   ]
  },
  {
   "cell_type": "code",
   "execution_count": 140,
   "id": "3f11a27a",
   "metadata": {},
   "outputs": [
    {
     "data": {
      "text/html": [
       "0.821329113924051"
      ],
      "text/latex": [
       "0.821329113924051"
      ],
      "text/markdown": [
       "0.821329113924051"
      ],
      "text/plain": [
       "Area under the curve: 0.8213"
      ]
     },
     "metadata": {},
     "output_type": "display_data"
    }
   ],
   "source": [
    "test_roc$auc"
   ]
  },
  {
   "cell_type": "code",
   "execution_count": 184,
   "id": "f5ec570a",
   "metadata": {},
   "outputs": [
    {
     "data": {
      "text/html": [
       "<ol class=list-inline>\n",
       "\t<li>0.05</li>\n",
       "\t<li>0.1</li>\n",
       "\t<li>0.15</li>\n",
       "\t<li>0.2</li>\n",
       "\t<li>0.25</li>\n",
       "\t<li>0.3</li>\n",
       "\t<li>0.35</li>\n",
       "\t<li>0.4</li>\n",
       "\t<li>0.45</li>\n",
       "\t<li>0.5</li>\n",
       "\t<li>0.55</li>\n",
       "\t<li>0.6</li>\n",
       "\t<li>0.65</li>\n",
       "\t<li>0.7</li>\n",
       "\t<li>0.75</li>\n",
       "\t<li>0.8</li>\n",
       "\t<li>0.85</li>\n",
       "\t<li>0.9</li>\n",
       "\t<li>0.95</li>\n",
       "</ol>\n"
      ],
      "text/latex": [
       "\\begin{enumerate*}\n",
       "\\item 0.05\n",
       "\\item 0.1\n",
       "\\item 0.15\n",
       "\\item 0.2\n",
       "\\item 0.25\n",
       "\\item 0.3\n",
       "\\item 0.35\n",
       "\\item 0.4\n",
       "\\item 0.45\n",
       "\\item 0.5\n",
       "\\item 0.55\n",
       "\\item 0.6\n",
       "\\item 0.65\n",
       "\\item 0.7\n",
       "\\item 0.75\n",
       "\\item 0.8\n",
       "\\item 0.85\n",
       "\\item 0.9\n",
       "\\item 0.95\n",
       "\\end{enumerate*}\n"
      ],
      "text/markdown": [
       "1. 0.05\n",
       "2. 0.1\n",
       "3. 0.15\n",
       "4. 0.2\n",
       "5. 0.25\n",
       "6. 0.3\n",
       "7. 0.35\n",
       "8. 0.4\n",
       "9. 0.45\n",
       "10. 0.5\n",
       "11. 0.55\n",
       "12. 0.6\n",
       "13. 0.65\n",
       "14. 0.7\n",
       "15. 0.75\n",
       "16. 0.8\n",
       "17. 0.85\n",
       "18. 0.9\n",
       "19. 0.95\n",
       "\n",
       "\n"
      ],
      "text/plain": [
       " [1] 0.05 0.10 0.15 0.20 0.25 0.30 0.35 0.40 0.45 0.50 0.55 0.60 0.65 0.70 0.75\n",
       "[16] 0.80 0.85 0.90 0.95"
      ]
     },
     "metadata": {},
     "output_type": "display_data"
    }
   ],
   "source": [
    "previsoes <- predict(object = fit_glm, newdata = test, type = 'response')\n",
    "(cuts <- seq(0.05,0.95,0.05))"
   ]
  },
  {
   "cell_type": "code",
   "execution_count": 190,
   "id": "58fd9e45",
   "metadata": {},
   "outputs": [
    {
     "name": "stdout",
     "output_type": "stream",
     "text": [
      "[1] 0.05\n",
      " Accuracy \n",
      "0.4972067 \n",
      "[1] 0.1\n",
      " Accuracy \n",
      "0.6145251 \n",
      "[1] 0.15\n",
      " Accuracy \n",
      "0.6648045 \n",
      "[1] 0.2\n",
      " Accuracy \n",
      "0.6648045 \n",
      "[1] 0.25\n",
      " Accuracy \n",
      "0.6815642 \n",
      "[1] 0.3\n",
      " Accuracy \n",
      "0.7206704 \n",
      "[1] 0.35\n",
      " Accuracy \n",
      "0.7318436 \n",
      "[1] 0.4\n",
      " Accuracy \n",
      "0.7541899 \n",
      "[1] 0.45\n",
      " Accuracy \n",
      "0.7318436 \n",
      "[1] 0.5\n",
      " Accuracy \n",
      "0.7541899 \n",
      "[1] 0.55\n",
      " Accuracy \n",
      "0.7486034 \n",
      "[1] 0.6\n",
      " Accuracy \n",
      "0.7653631 \n",
      "[1] 0.65\n",
      " Accuracy \n",
      "0.7430168 \n",
      "[1] 0.7\n",
      " Accuracy \n",
      "0.7653631 \n",
      "[1] 0.75\n",
      " Accuracy \n",
      "0.7430168 \n",
      "[1] 0.8\n",
      "Accuracy \n",
      "0.726257 \n",
      "[1] 0.85\n",
      " Accuracy \n",
      "0.6815642 \n",
      "[1] 0.9\n",
      " Accuracy \n",
      "0.6536313 \n",
      "[1] 0.95\n",
      " Accuracy \n",
      "0.5865922 \n"
     ]
    }
   ],
   "source": [
    "for (i in cuts){\n",
    "    previsoes <- predict(object = fit_glm, newdata = test, type = 'response')\n",
    "    previsoes <- ifelse(previsoes > i, 1, 0)\n",
    "    print(i); print(confusionMatrix(data = factor(previsoes), reference = factor(test$Survived), positive = '1')$overall[1])\n",
    "}"
   ]
  },
  {
   "cell_type": "code",
   "execution_count": 191,
   "id": "428ccd77",
   "metadata": {},
   "outputs": [
    {
     "data": {
      "text/plain": [
       "Confusion Matrix and Statistics\n",
       "\n",
       "          Reference\n",
       "Prediction  0  1\n",
       "         0 98 40\n",
       "         1  2 39\n",
       "                                          \n",
       "               Accuracy : 0.7654          \n",
       "                 95% CI : (0.6964, 0.8254)\n",
       "    No Information Rate : 0.5587          \n",
       "    P-Value [Acc > NIR] : 7.014e-09       \n",
       "                                          \n",
       "                  Kappa : 0.4989          \n",
       "                                          \n",
       " Mcnemar's Test P-Value : 1.135e-08       \n",
       "                                          \n",
       "            Sensitivity : 0.4937          \n",
       "            Specificity : 0.9800          \n",
       "         Pos Pred Value : 0.9512          \n",
       "         Neg Pred Value : 0.7101          \n",
       "             Prevalence : 0.4413          \n",
       "         Detection Rate : 0.2179          \n",
       "   Detection Prevalence : 0.2291          \n",
       "      Balanced Accuracy : 0.7368          \n",
       "                                          \n",
       "       'Positive' Class : 1               \n",
       "                                          "
      ]
     },
     "metadata": {},
     "output_type": "display_data"
    }
   ],
   "source": [
    "previsoes <- predict(object = fit_glm, newdata = test, type = 'response')\n",
    "previsoes <- ifelse(previsoes > 0.7, 1, 0)\n",
    "confusionMatrix(data = factor(previsoes), reference = factor(test$Survived), positive = '1')"
   ]
  }
 ],
 "metadata": {
  "kernelspec": {
   "display_name": "R",
   "language": "R",
   "name": "ir"
  },
  "language_info": {
   "codemirror_mode": "r",
   "file_extension": ".r",
   "mimetype": "text/x-r-source",
   "name": "R",
   "pygments_lexer": "r",
   "version": "3.6.1"
  }
 },
 "nbformat": 4,
 "nbformat_minor": 5
}
