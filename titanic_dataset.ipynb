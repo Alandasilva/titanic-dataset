{
 "cells": [
  {
   "cell_type": "markdown",
   "id": "44dd4422",
   "metadata": {},
   "source": [
    "# Titanic Dataset"
   ]
  },
  {
   "cell_type": "markdown",
   "id": "dccc844a",
   "metadata": {},
   "source": [
    "O conjunto de dados de teste conta com as seguintes variáveis: PassenderId: Passenger ID, Survived: Passnager Survival Indicator, Pclass: Passenger Class, Name: Name, Sex: Sex, Age: Age, SibSp: Number of Siblings/Spouses Aboard, Parch: Number of Parents/Children Aboard, Ticket: Ticket Number, Fare: Passenger Fare, Cabin: Cabin and Embarked: Port of Embarkation. \n",
    "Entretanto, vamos considerar as variáveis Survived, Pclass, Sex, Age, SibSp, Parch e Embarked."
   ]
  },
  {
   "cell_type": "markdown",
   "id": "0ddd7397",
   "metadata": {},
   "source": [
    "## Carregando o pacote titanic\n",
    "\n",
    "Vamos carregar o conjunto de dados por meio da biblioteca **titanic**."
   ]
  },
  {
   "cell_type": "code",
   "execution_count": 4,
   "id": "5033352c",
   "metadata": {},
   "outputs": [],
   "source": [
    "#install.packages('titanic')\n",
    "library('titanic');"
   ]
  },
  {
   "cell_type": "code",
   "execution_count": 5,
   "id": "9958ea58",
   "metadata": {},
   "outputs": [
    {
     "data": {
      "text/html": [
       "<table>\n",
       "<thead><tr><th scope=col>Survived</th><th scope=col>Pclass</th><th scope=col>Sex</th><th scope=col>Age</th><th scope=col>SibSp</th><th scope=col>Parch</th><th scope=col>Fare</th><th scope=col>Embarked</th></tr></thead>\n",
       "<tbody>\n",
       "\t<tr><td>0      </td><td>3      </td><td>male   </td><td>22     </td><td>1      </td><td>0      </td><td> 7.2500</td><td>S      </td></tr>\n",
       "\t<tr><td>1      </td><td>1      </td><td>female </td><td>38     </td><td>1      </td><td>0      </td><td>71.2833</td><td>C      </td></tr>\n",
       "\t<tr><td>1      </td><td>3      </td><td>female </td><td>26     </td><td>0      </td><td>0      </td><td> 7.9250</td><td>S      </td></tr>\n",
       "\t<tr><td>1      </td><td>1      </td><td>female </td><td>35     </td><td>1      </td><td>0      </td><td>53.1000</td><td>S      </td></tr>\n",
       "\t<tr><td>0      </td><td>3      </td><td>male   </td><td>35     </td><td>0      </td><td>0      </td><td> 8.0500</td><td>S      </td></tr>\n",
       "\t<tr><td>0      </td><td>3      </td><td>male   </td><td>NA     </td><td>0      </td><td>0      </td><td> 8.4583</td><td>Q      </td></tr>\n",
       "</tbody>\n",
       "</table>\n"
      ],
      "text/latex": [
       "\\begin{tabular}{r|llllllll}\n",
       " Survived & Pclass & Sex & Age & SibSp & Parch & Fare & Embarked\\\\\n",
       "\\hline\n",
       "\t 0       & 3       & male    & 22      & 1       & 0       &  7.2500 & S      \\\\\n",
       "\t 1       & 1       & female  & 38      & 1       & 0       & 71.2833 & C      \\\\\n",
       "\t 1       & 3       & female  & 26      & 0       & 0       &  7.9250 & S      \\\\\n",
       "\t 1       & 1       & female  & 35      & 1       & 0       & 53.1000 & S      \\\\\n",
       "\t 0       & 3       & male    & 35      & 0       & 0       &  8.0500 & S      \\\\\n",
       "\t 0       & 3       & male    & NA      & 0       & 0       &  8.4583 & Q      \\\\\n",
       "\\end{tabular}\n"
      ],
      "text/markdown": [
       "\n",
       "| Survived | Pclass | Sex | Age | SibSp | Parch | Fare | Embarked |\n",
       "|---|---|---|---|---|---|---|---|\n",
       "| 0       | 3       | male    | 22      | 1       | 0       |  7.2500 | S       |\n",
       "| 1       | 1       | female  | 38      | 1       | 0       | 71.2833 | C       |\n",
       "| 1       | 3       | female  | 26      | 0       | 0       |  7.9250 | S       |\n",
       "| 1       | 1       | female  | 35      | 1       | 0       | 53.1000 | S       |\n",
       "| 0       | 3       | male    | 35      | 0       | 0       |  8.0500 | S       |\n",
       "| 0       | 3       | male    | NA      | 0       | 0       |  8.4583 | Q       |\n",
       "\n"
      ],
      "text/plain": [
       "  Survived Pclass Sex    Age SibSp Parch Fare    Embarked\n",
       "1 0        3      male   22  1     0      7.2500 S       \n",
       "2 1        1      female 38  1     0     71.2833 C       \n",
       "3 1        3      female 26  0     0      7.9250 S       \n",
       "4 1        1      female 35  1     0     53.1000 S       \n",
       "5 0        3      male   35  0     0      8.0500 S       \n",
       "6 0        3      male   NA  0     0      8.4583 Q       "
      ]
     },
     "metadata": {},
     "output_type": "display_data"
    }
   ],
   "source": [
    "#install.packages('knitr', dependencies = TRUE)\n",
    "titanic_df <- subset(titanic_train, select = c('Survived', 'Pclass', 'Sex', 'Age', 'SibSp', 'Parch', 'Fare','Embarked'))\n",
    "#knitr::kable(head(titanic_df))\n",
    "head(titanic_df)"
   ]
  },
  {
   "cell_type": "markdown",
   "id": "0f68ac8d",
   "metadata": {},
   "source": [
    "O conjunto de dados de treino conta com 891 observações e o conjunto de teste com 418 observações."
   ]
  },
  {
   "cell_type": "code",
   "execution_count": 5,
   "id": "494c8e6d",
   "metadata": {},
   "outputs": [
    {
     "data": {
      "text/html": [
       "<ol class=list-inline>\n",
       "\t<li>891</li>\n",
       "\t<li>8</li>\n",
       "</ol>\n"
      ],
      "text/latex": [
       "\\begin{enumerate*}\n",
       "\\item 891\n",
       "\\item 8\n",
       "\\end{enumerate*}\n"
      ],
      "text/markdown": [
       "1. 891\n",
       "2. 8\n",
       "\n",
       "\n"
      ],
      "text/plain": [
       "[1] 891   8"
      ]
     },
     "metadata": {},
     "output_type": "display_data"
    }
   ],
   "source": [
    "dim(titanic_df)"
   ]
  },
  {
   "cell_type": "code",
   "execution_count": 17,
   "id": "c6c9db9b",
   "metadata": {},
   "outputs": [
    {
     "data": {
      "text/html": [
       "<table>\n",
       "<thead><tr><th scope=col>Survived</th><th scope=col>Pclass</th><th scope=col>Sex</th><th scope=col>Age</th><th scope=col>SibSp</th><th scope=col>Parch</th><th scope=col>Fare</th><th scope=col>Embarked</th></tr></thead>\n",
       "<tbody>\n",
       "\t<tr><td>0  </td><td>0  </td><td>0  </td><td>177</td><td>0  </td><td>0  </td><td>0  </td><td>0  </td></tr>\n",
       "</tbody>\n",
       "</table>\n"
      ],
      "text/latex": [
       "\\begin{tabular}{llllllll}\n",
       " Survived & Pclass & Sex & Age & SibSp & Parch & Fare & Embarked\\\\\n",
       "\\hline\n",
       "\t 0   & 0   & 0   & 177 & 0   & 0   & 0   & 0  \\\\\n",
       "\\end{tabular}\n"
      ],
      "text/markdown": [
       "\n",
       "| Survived | Pclass | Sex | Age | SibSp | Parch | Fare | Embarked |\n",
       "|---|---|---|---|---|---|---|---|\n",
       "| 0   | 0   | 0   | 177 | 0   | 0   | 0   | 0   |\n",
       "\n"
      ],
      "text/plain": [
       "     Survived Pclass Sex Age SibSp Parch Fare Embarked\n",
       "[1,] 0        0      0   177 0     0     0    0       "
      ]
     },
     "metadata": {},
     "output_type": "display_data"
    }
   ],
   "source": [
    "na_sum <- apply(X = titanic_df, MARGIN = 2, FUN = function(x) sum(is.na(x)))\n",
    "t(na_sum)              "
   ]
  },
  {
   "cell_type": "markdown",
   "id": "b95cb54e",
   "metadata": {},
   "source": [
    "Vamos remover as observações com valores faltantes e considerar apenas as demais observações."
   ]
  },
  {
   "cell_type": "code",
   "execution_count": 24,
   "id": "2261cad0",
   "metadata": {},
   "outputs": [
    {
     "data": {
      "text/html": [
       "<table>\n",
       "<thead><tr><th></th><th scope=col>Survived</th><th scope=col>Pclass</th><th scope=col>Sex</th><th scope=col>Age</th><th scope=col>SibSp</th><th scope=col>Parch</th><th scope=col>Fare</th><th scope=col>Embarked</th></tr></thead>\n",
       "<tbody>\n",
       "\t<tr><th scope=row>1</th><td>0      </td><td>3      </td><td>male   </td><td>22     </td><td>1      </td><td>0      </td><td> 7.2500</td><td>S      </td></tr>\n",
       "\t<tr><th scope=row>2</th><td>1      </td><td>1      </td><td>female </td><td>38     </td><td>1      </td><td>0      </td><td>71.2833</td><td>C      </td></tr>\n",
       "\t<tr><th scope=row>3</th><td>1      </td><td>3      </td><td>female </td><td>26     </td><td>0      </td><td>0      </td><td> 7.9250</td><td>S      </td></tr>\n",
       "\t<tr><th scope=row>4</th><td>1      </td><td>1      </td><td>female </td><td>35     </td><td>1      </td><td>0      </td><td>53.1000</td><td>S      </td></tr>\n",
       "\t<tr><th scope=row>5</th><td>0      </td><td>3      </td><td>male   </td><td>35     </td><td>0      </td><td>0      </td><td> 8.0500</td><td>S      </td></tr>\n",
       "\t<tr><th scope=row>7</th><td>0      </td><td>1      </td><td>male   </td><td>54     </td><td>0      </td><td>0      </td><td>51.8625</td><td>S      </td></tr>\n",
       "</tbody>\n",
       "</table>\n"
      ],
      "text/latex": [
       "\\begin{tabular}{r|llllllll}\n",
       "  & Survived & Pclass & Sex & Age & SibSp & Parch & Fare & Embarked\\\\\n",
       "\\hline\n",
       "\t1 & 0       & 3       & male    & 22      & 1       & 0       &  7.2500 & S      \\\\\n",
       "\t2 & 1       & 1       & female  & 38      & 1       & 0       & 71.2833 & C      \\\\\n",
       "\t3 & 1       & 3       & female  & 26      & 0       & 0       &  7.9250 & S      \\\\\n",
       "\t4 & 1       & 1       & female  & 35      & 1       & 0       & 53.1000 & S      \\\\\n",
       "\t5 & 0       & 3       & male    & 35      & 0       & 0       &  8.0500 & S      \\\\\n",
       "\t7 & 0       & 1       & male    & 54      & 0       & 0       & 51.8625 & S      \\\\\n",
       "\\end{tabular}\n"
      ],
      "text/markdown": [
       "\n",
       "| <!--/--> | Survived | Pclass | Sex | Age | SibSp | Parch | Fare | Embarked |\n",
       "|---|---|---|---|---|---|---|---|---|\n",
       "| 1 | 0       | 3       | male    | 22      | 1       | 0       |  7.2500 | S       |\n",
       "| 2 | 1       | 1       | female  | 38      | 1       | 0       | 71.2833 | C       |\n",
       "| 3 | 1       | 3       | female  | 26      | 0       | 0       |  7.9250 | S       |\n",
       "| 4 | 1       | 1       | female  | 35      | 1       | 0       | 53.1000 | S       |\n",
       "| 5 | 0       | 3       | male    | 35      | 0       | 0       |  8.0500 | S       |\n",
       "| 7 | 0       | 1       | male    | 54      | 0       | 0       | 51.8625 | S       |\n",
       "\n"
      ],
      "text/plain": [
       "  Survived Pclass Sex    Age SibSp Parch Fare    Embarked\n",
       "1 0        3      male   22  1     0      7.2500 S       \n",
       "2 1        1      female 38  1     0     71.2833 C       \n",
       "3 1        3      female 26  0     0      7.9250 S       \n",
       "4 1        1      female 35  1     0     53.1000 S       \n",
       "5 0        3      male   35  0     0      8.0500 S       \n",
       "7 0        1      male   54  0     0     51.8625 S       "
      ]
     },
     "metadata": {},
     "output_type": "display_data"
    }
   ],
   "source": [
    "titanic_df <- na.omit(titanic_df)\n",
    "head(titanic_df)"
   ]
  },
  {
   "cell_type": "markdown",
   "id": "754bab98",
   "metadata": {},
   "source": [
    "Agora, o conjunto de dados conta com 714 observações."
   ]
  },
  {
   "cell_type": "code",
   "execution_count": 25,
   "id": "f67753fa",
   "metadata": {},
   "outputs": [
    {
     "data": {
      "text/html": [
       "714"
      ],
      "text/latex": [
       "714"
      ],
      "text/markdown": [
       "714"
      ],
      "text/plain": [
       "[1] 714"
      ]
     },
     "metadata": {},
     "output_type": "display_data"
    }
   ],
   "source": [
    "nrow(titanic_df)"
   ]
  },
  {
   "cell_type": "markdown",
   "id": "ef23f800",
   "metadata": {},
   "source": [
    "### Vizualização dos dados"
   ]
  },
  {
   "cell_type": "code",
   "execution_count": 20,
   "id": "0a6c954e",
   "metadata": {},
   "outputs": [
    {
     "data": {
      "image/png": "[encoded data removed]",
      "text/plain": [
       "plot without title"
      ]
     },
     "metadata": {},
     "output_type": "display_data"
    }
   ],
   "source": [
    "options(repr.plot.res = 60)\n",
    "library(ggplot2)\n",
    "ggplot(titanic_df, aes(x = Survived)) +\n",
    "  geom_bar(width=0.5, fill = \"coral\") +\n",
    "  geom_text(stat='count', aes(label=stat(count)), vjust=-0.5) +\n",
    "  theme_classic()"
   ]
  },
  {
   "cell_type": "code",
   "execution_count": 21,
   "id": "9a3acc3e",
   "metadata": {},
   "outputs": [
    {
     "data": {
      "image/png": "[encoded data removed]",
      "text/plain": [
       "plot without title"
      ]
     },
     "metadata": {},
     "output_type": "display_data"
    }
   ],
   "source": [
    "options(repr.plot.res = 60)\n",
    "ggplot(titanic_df, aes(x = Survived, fill=Sex)) +\n",
    " geom_bar(position = position_dodge()) +\n",
    " geom_text(stat='count', \n",
    "           aes(label=stat(count)), \n",
    "           position = position_dodge(width=1), vjust=-0.5)+\n",
    " theme_classic()"
   ]
  },
  {
   "cell_type": "code",
   "execution_count": 29,
   "id": "b6608b94",
   "metadata": {},
   "outputs": [
    {
     "data": {
      "image/png": "[encoded data removed]",
      "text/plain": [
       "plot without title"
      ]
     },
     "metadata": {},
     "output_type": "display_data"
    }
   ],
   "source": [
    "options(repr.plot.res = 60)\n",
    "ggplot(titanic_df, aes(x = Age)) +\n",
    " geom_histogram(color=\"black\", fill=\"coral\", binwidth = 5) +\n",
    " theme_classic()"
   ]
  },
  {
   "cell_type": "code",
   "execution_count": 35,
   "id": "fe6ee9c0",
   "metadata": {},
   "outputs": [],
   "source": [
    "titanic_df$Survived <- factor(titanic_df$Survived)\n",
    "titanic_df$Pclass = factor(titanic_df$Pclass, order=TRUE, levels = c(3, 2, 1))"
   ]
  },
  {
   "cell_type": "markdown",
   "id": "f660385b",
   "metadata": {},
   "source": [
    "### Diagrama de correlação"
   ]
  },
  {
   "cell_type": "code",
   "execution_count": 59,
   "id": "14bbc155",
   "metadata": {},
   "outputs": [
    {
     "data": {
      "image/png": "[encoded data removed]",
      "text/plain": [
       "plot without title"
      ]
     },
     "metadata": {},
     "output_type": "display_data"
    }
   ],
   "source": [
    "#install.packages('GGally')\n",
    "library(GGally)\n",
    "\n",
    "options(repr.plot.res = 60, warn = -1)\n",
    "ggcorr(titanic_df,\n",
    "       nbreaks = 4,\n",
    "       label = TRUE,\n",
    "       label_size = 5,\n",
    "       color = 'grey50')"
   ]
  },
  {
   "cell_type": "code",
   "execution_count": 62,
   "id": "af27d08a",
   "metadata": {},
   "outputs": [
    {
     "data": {
      "image/png": "[encoded data removed]",
      "text/plain": [
       "plot without title"
      ]
     },
     "metadata": {},
     "output_type": "display_data"
    }
   ],
   "source": [
    "options(repr.plot.res = 60, warn = 0)\n",
    "ggplot(titanic_df, aes(x = Survived, fill=Pclass)) +\n",
    " geom_bar(position = position_dodge()) +\n",
    " geom_text(stat='count', \n",
    "           aes(label=stat(count)), \n",
    "           position = position_dodge(width=1), \n",
    "           vjust=-0.5)+\n",
    " theme_classic()"
   ]
  }
 ],
 "metadata": {
  "kernelspec": {
   "display_name": "R",
   "language": "R",
   "name": "ir"
  },
  "language_info": {
   "codemirror_mode": "r",
   "file_extension": ".r",
   "mimetype": "text/x-r-source",
   "name": "R",
   "pygments_lexer": "r",
   "version": "3.6.1"
  }
 },
 "nbformat": 4,
 "nbformat_minor": 5
}
